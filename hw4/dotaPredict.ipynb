{
 "cells": [
  {
   "cell_type": "markdown",
   "metadata": {},
   "source": [
    "# Dota2 勝率分析\n",
    "\n",
    "透過兩隊選擇的角色來分析勝率\n",
    "\n",
    "![](https://steamcdn-a.akamaihd.net/steam/apps/570/header.jpg?t=1557267263)\n",
    "\n",
    "\n",
    "***資料來源***\n",
    "- https://archive.ics.uci.edu/ml/datasets/Dota2+Games+Results\n",
    "\n",
    "***資料介紹***\n",
    "\n",
    "Dota2 是5對5即時對戰遊戲，每個玩家會各自選擇不同的角色，總共有113種角色可以選擇，在此希望透過角色的選擇來預測哪個隊伍會獲勝。\n",
    "\n",
    "***資料***\n",
    "1. Team won the game (1 or -1)\n",
    "2. Cluster ID (related to location)\n",
    "3. Game mode (eg All Pick)\n",
    "4. Game type (eg. Ranked)\n",
    "5. 兩隊個選的角色(共113種，且不能重複選)\n",
    "\n",
    "\n",
    "# 使用Classification\n",
    "因為此資料只提供選了哪些角色，因此並不適合使用regression和clustering，因此在此使用Classification(D-tree)。"
   ]
  },
  {
   "cell_type": "markdown",
   "metadata": {},
   "source": [
    "# 載入資料"
   ]
  },
  {
   "cell_type": "code",
   "execution_count": 1,
   "metadata": {},
   "outputs": [
    {
     "data": {
      "text/html": [
       "<div>\n",
       "<style scoped>\n",
       "    .dataframe tbody tr th:only-of-type {\n",
       "        vertical-align: middle;\n",
       "    }\n",
       "\n",
       "    .dataframe tbody tr th {\n",
       "        vertical-align: top;\n",
       "    }\n",
       "\n",
       "    .dataframe thead th {\n",
       "        text-align: right;\n",
       "    }\n",
       "</style>\n",
       "<table border=\"1\" class=\"dataframe\">\n",
       "  <thead>\n",
       "    <tr style=\"text-align: right;\">\n",
       "      <th></th>\n",
       "      <th>-1</th>\n",
       "      <th>223</th>\n",
       "      <th>2</th>\n",
       "      <th>2.1</th>\n",
       "      <th>0</th>\n",
       "      <th>0.1</th>\n",
       "      <th>0.2</th>\n",
       "      <th>0.3</th>\n",
       "      <th>0.4</th>\n",
       "      <th>0.5</th>\n",
       "      <th>...</th>\n",
       "      <th>0.93</th>\n",
       "      <th>0.94</th>\n",
       "      <th>0.95</th>\n",
       "      <th>0.96</th>\n",
       "      <th>0.97</th>\n",
       "      <th>0.98</th>\n",
       "      <th>0.99</th>\n",
       "      <th>0.100</th>\n",
       "      <th>0.101</th>\n",
       "      <th>0.102</th>\n",
       "    </tr>\n",
       "  </thead>\n",
       "  <tbody>\n",
       "    <tr>\n",
       "      <th>count</th>\n",
       "      <td>92649.000000</td>\n",
       "      <td>92649.000000</td>\n",
       "      <td>92649.000000</td>\n",
       "      <td>92649.000000</td>\n",
       "      <td>92649.000000</td>\n",
       "      <td>92649.000000</td>\n",
       "      <td>92649.000000</td>\n",
       "      <td>92649.000000</td>\n",
       "      <td>92649.000000</td>\n",
       "      <td>92649.000000</td>\n",
       "      <td>...</td>\n",
       "      <td>92649.000000</td>\n",
       "      <td>92649.000000</td>\n",
       "      <td>92649.000000</td>\n",
       "      <td>92649.000000</td>\n",
       "      <td>92649.0</td>\n",
       "      <td>92649.000000</td>\n",
       "      <td>92649.000000</td>\n",
       "      <td>92649.000000</td>\n",
       "      <td>92649.000000</td>\n",
       "      <td>92649.000000</td>\n",
       "    </tr>\n",
       "    <tr>\n",
       "      <th>mean</th>\n",
       "      <td>0.053050</td>\n",
       "      <td>175.863636</td>\n",
       "      <td>3.317586</td>\n",
       "      <td>2.384591</td>\n",
       "      <td>-0.001630</td>\n",
       "      <td>-0.000971</td>\n",
       "      <td>0.000691</td>\n",
       "      <td>-0.000799</td>\n",
       "      <td>-0.002008</td>\n",
       "      <td>0.003173</td>\n",
       "      <td>...</td>\n",
       "      <td>-0.001371</td>\n",
       "      <td>-0.000950</td>\n",
       "      <td>0.000885</td>\n",
       "      <td>0.000594</td>\n",
       "      <td>0.0</td>\n",
       "      <td>0.001025</td>\n",
       "      <td>0.000648</td>\n",
       "      <td>-0.000227</td>\n",
       "      <td>-0.000043</td>\n",
       "      <td>0.000896</td>\n",
       "    </tr>\n",
       "    <tr>\n",
       "      <th>std</th>\n",
       "      <td>0.998597</td>\n",
       "      <td>35.658070</td>\n",
       "      <td>2.633081</td>\n",
       "      <td>0.486834</td>\n",
       "      <td>0.402006</td>\n",
       "      <td>0.467674</td>\n",
       "      <td>0.165053</td>\n",
       "      <td>0.355395</td>\n",
       "      <td>0.329349</td>\n",
       "      <td>0.483952</td>\n",
       "      <td>...</td>\n",
       "      <td>0.535027</td>\n",
       "      <td>0.206113</td>\n",
       "      <td>0.283987</td>\n",
       "      <td>0.155941</td>\n",
       "      <td>0.0</td>\n",
       "      <td>0.220704</td>\n",
       "      <td>0.204167</td>\n",
       "      <td>0.168708</td>\n",
       "      <td>0.189869</td>\n",
       "      <td>0.139034</td>\n",
       "    </tr>\n",
       "    <tr>\n",
       "      <th>min</th>\n",
       "      <td>-1.000000</td>\n",
       "      <td>111.000000</td>\n",
       "      <td>1.000000</td>\n",
       "      <td>1.000000</td>\n",
       "      <td>-1.000000</td>\n",
       "      <td>-1.000000</td>\n",
       "      <td>-1.000000</td>\n",
       "      <td>-1.000000</td>\n",
       "      <td>-1.000000</td>\n",
       "      <td>-1.000000</td>\n",
       "      <td>...</td>\n",
       "      <td>-1.000000</td>\n",
       "      <td>-1.000000</td>\n",
       "      <td>-1.000000</td>\n",
       "      <td>-1.000000</td>\n",
       "      <td>0.0</td>\n",
       "      <td>-1.000000</td>\n",
       "      <td>-1.000000</td>\n",
       "      <td>-1.000000</td>\n",
       "      <td>-1.000000</td>\n",
       "      <td>-1.000000</td>\n",
       "    </tr>\n",
       "    <tr>\n",
       "      <th>25%</th>\n",
       "      <td>-1.000000</td>\n",
       "      <td>152.000000</td>\n",
       "      <td>2.000000</td>\n",
       "      <td>2.000000</td>\n",
       "      <td>0.000000</td>\n",
       "      <td>0.000000</td>\n",
       "      <td>0.000000</td>\n",
       "      <td>0.000000</td>\n",
       "      <td>0.000000</td>\n",
       "      <td>0.000000</td>\n",
       "      <td>...</td>\n",
       "      <td>0.000000</td>\n",
       "      <td>0.000000</td>\n",
       "      <td>0.000000</td>\n",
       "      <td>0.000000</td>\n",
       "      <td>0.0</td>\n",
       "      <td>0.000000</td>\n",
       "      <td>0.000000</td>\n",
       "      <td>0.000000</td>\n",
       "      <td>0.000000</td>\n",
       "      <td>0.000000</td>\n",
       "    </tr>\n",
       "    <tr>\n",
       "      <th>50%</th>\n",
       "      <td>1.000000</td>\n",
       "      <td>156.000000</td>\n",
       "      <td>2.000000</td>\n",
       "      <td>2.000000</td>\n",
       "      <td>0.000000</td>\n",
       "      <td>0.000000</td>\n",
       "      <td>0.000000</td>\n",
       "      <td>0.000000</td>\n",
       "      <td>0.000000</td>\n",
       "      <td>0.000000</td>\n",
       "      <td>...</td>\n",
       "      <td>0.000000</td>\n",
       "      <td>0.000000</td>\n",
       "      <td>0.000000</td>\n",
       "      <td>0.000000</td>\n",
       "      <td>0.0</td>\n",
       "      <td>0.000000</td>\n",
       "      <td>0.000000</td>\n",
       "      <td>0.000000</td>\n",
       "      <td>0.000000</td>\n",
       "      <td>0.000000</td>\n",
       "    </tr>\n",
       "    <tr>\n",
       "      <th>75%</th>\n",
       "      <td>1.000000</td>\n",
       "      <td>223.000000</td>\n",
       "      <td>2.000000</td>\n",
       "      <td>3.000000</td>\n",
       "      <td>0.000000</td>\n",
       "      <td>0.000000</td>\n",
       "      <td>0.000000</td>\n",
       "      <td>0.000000</td>\n",
       "      <td>0.000000</td>\n",
       "      <td>0.000000</td>\n",
       "      <td>...</td>\n",
       "      <td>0.000000</td>\n",
       "      <td>0.000000</td>\n",
       "      <td>0.000000</td>\n",
       "      <td>0.000000</td>\n",
       "      <td>0.0</td>\n",
       "      <td>0.000000</td>\n",
       "      <td>0.000000</td>\n",
       "      <td>0.000000</td>\n",
       "      <td>0.000000</td>\n",
       "      <td>0.000000</td>\n",
       "    </tr>\n",
       "    <tr>\n",
       "      <th>max</th>\n",
       "      <td>1.000000</td>\n",
       "      <td>261.000000</td>\n",
       "      <td>9.000000</td>\n",
       "      <td>3.000000</td>\n",
       "      <td>1.000000</td>\n",
       "      <td>1.000000</td>\n",
       "      <td>1.000000</td>\n",
       "      <td>1.000000</td>\n",
       "      <td>1.000000</td>\n",
       "      <td>1.000000</td>\n",
       "      <td>...</td>\n",
       "      <td>1.000000</td>\n",
       "      <td>1.000000</td>\n",
       "      <td>1.000000</td>\n",
       "      <td>1.000000</td>\n",
       "      <td>0.0</td>\n",
       "      <td>1.000000</td>\n",
       "      <td>1.000000</td>\n",
       "      <td>1.000000</td>\n",
       "      <td>1.000000</td>\n",
       "      <td>1.000000</td>\n",
       "    </tr>\n",
       "  </tbody>\n",
       "</table>\n",
       "<p>8 rows × 117 columns</p>\n",
       "</div>"
      ],
      "text/plain": [
       "                 -1           223             2           2.1             0  \\\n",
       "count  92649.000000  92649.000000  92649.000000  92649.000000  92649.000000   \n",
       "mean       0.053050    175.863636      3.317586      2.384591     -0.001630   \n",
       "std        0.998597     35.658070      2.633081      0.486834      0.402006   \n",
       "min       -1.000000    111.000000      1.000000      1.000000     -1.000000   \n",
       "25%       -1.000000    152.000000      2.000000      2.000000      0.000000   \n",
       "50%        1.000000    156.000000      2.000000      2.000000      0.000000   \n",
       "75%        1.000000    223.000000      2.000000      3.000000      0.000000   \n",
       "max        1.000000    261.000000      9.000000      3.000000      1.000000   \n",
       "\n",
       "                0.1           0.2           0.3           0.4           0.5  \\\n",
       "count  92649.000000  92649.000000  92649.000000  92649.000000  92649.000000   \n",
       "mean      -0.000971      0.000691     -0.000799     -0.002008      0.003173   \n",
       "std        0.467674      0.165053      0.355395      0.329349      0.483952   \n",
       "min       -1.000000     -1.000000     -1.000000     -1.000000     -1.000000   \n",
       "25%        0.000000      0.000000      0.000000      0.000000      0.000000   \n",
       "50%        0.000000      0.000000      0.000000      0.000000      0.000000   \n",
       "75%        0.000000      0.000000      0.000000      0.000000      0.000000   \n",
       "max        1.000000      1.000000      1.000000      1.000000      1.000000   \n",
       "\n",
       "       ...          0.93          0.94          0.95          0.96     0.97  \\\n",
       "count  ...  92649.000000  92649.000000  92649.000000  92649.000000  92649.0   \n",
       "mean   ...     -0.001371     -0.000950      0.000885      0.000594      0.0   \n",
       "std    ...      0.535027      0.206113      0.283987      0.155941      0.0   \n",
       "min    ...     -1.000000     -1.000000     -1.000000     -1.000000      0.0   \n",
       "25%    ...      0.000000      0.000000      0.000000      0.000000      0.0   \n",
       "50%    ...      0.000000      0.000000      0.000000      0.000000      0.0   \n",
       "75%    ...      0.000000      0.000000      0.000000      0.000000      0.0   \n",
       "max    ...      1.000000      1.000000      1.000000      1.000000      0.0   \n",
       "\n",
       "               0.98          0.99         0.100         0.101         0.102  \n",
       "count  92649.000000  92649.000000  92649.000000  92649.000000  92649.000000  \n",
       "mean       0.001025      0.000648     -0.000227     -0.000043      0.000896  \n",
       "std        0.220704      0.204167      0.168708      0.189869      0.139034  \n",
       "min       -1.000000     -1.000000     -1.000000     -1.000000     -1.000000  \n",
       "25%        0.000000      0.000000      0.000000      0.000000      0.000000  \n",
       "50%        0.000000      0.000000      0.000000      0.000000      0.000000  \n",
       "75%        0.000000      0.000000      0.000000      0.000000      0.000000  \n",
       "max        1.000000      1.000000      1.000000      1.000000      1.000000  \n",
       "\n",
       "[8 rows x 117 columns]"
      ]
     },
     "execution_count": 1,
     "metadata": {},
     "output_type": "execute_result"
    }
   ],
   "source": [
    "import pandas as pd\n",
    "import numpy as np\n",
    "\n",
    "from matplotlib import pyplot as plt\n",
    "from matplotlib.font_manager import FontProperties\n",
    "from sklearn.tree import DecisionTreeClassifier\n",
    "from sklearn.metrics import accuracy_score\n",
    "\n",
    "# myfont = FontProperties(fname=r'~/.local/lib/python3.6/site-packages/matplotlib/mpl-data/fonts/ttf/simhei.ttf')\n",
    "dota_data = pd.read_csv('dota2Train.csv')\n",
    "dota_test_data = pd.read_csv('dota2Test.csv')\n",
    "\n",
    "dota_data.describe()"
   ]
  },
  {
   "cell_type": "code",
   "execution_count": 2,
   "metadata": {},
   "outputs": [
    {
     "data": {
      "text/html": [
       "<div>\n",
       "<style scoped>\n",
       "    .dataframe tbody tr th:only-of-type {\n",
       "        vertical-align: middle;\n",
       "    }\n",
       "\n",
       "    .dataframe tbody tr th {\n",
       "        vertical-align: top;\n",
       "    }\n",
       "\n",
       "    .dataframe thead th {\n",
       "        text-align: right;\n",
       "    }\n",
       "</style>\n",
       "<table border=\"1\" class=\"dataframe\">\n",
       "  <thead>\n",
       "    <tr style=\"text-align: right;\">\n",
       "      <th></th>\n",
       "      <th>-1</th>\n",
       "      <th>223</th>\n",
       "      <th>2</th>\n",
       "      <th>2.1</th>\n",
       "      <th>0</th>\n",
       "      <th>0.1</th>\n",
       "      <th>0.2</th>\n",
       "      <th>0.3</th>\n",
       "      <th>0.4</th>\n",
       "      <th>0.5</th>\n",
       "      <th>...</th>\n",
       "      <th>0.93</th>\n",
       "      <th>0.94</th>\n",
       "      <th>0.95</th>\n",
       "      <th>0.96</th>\n",
       "      <th>0.97</th>\n",
       "      <th>0.98</th>\n",
       "      <th>0.99</th>\n",
       "      <th>0.100</th>\n",
       "      <th>0.101</th>\n",
       "      <th>0.102</th>\n",
       "    </tr>\n",
       "  </thead>\n",
       "  <tbody>\n",
       "    <tr>\n",
       "      <th>0</th>\n",
       "      <td>1</td>\n",
       "      <td>152</td>\n",
       "      <td>2</td>\n",
       "      <td>2</td>\n",
       "      <td>0</td>\n",
       "      <td>0</td>\n",
       "      <td>0</td>\n",
       "      <td>1</td>\n",
       "      <td>0</td>\n",
       "      <td>-1</td>\n",
       "      <td>...</td>\n",
       "      <td>0</td>\n",
       "      <td>0</td>\n",
       "      <td>0</td>\n",
       "      <td>0</td>\n",
       "      <td>0</td>\n",
       "      <td>0</td>\n",
       "      <td>0</td>\n",
       "      <td>0</td>\n",
       "      <td>0</td>\n",
       "      <td>0</td>\n",
       "    </tr>\n",
       "    <tr>\n",
       "      <th>1</th>\n",
       "      <td>1</td>\n",
       "      <td>131</td>\n",
       "      <td>2</td>\n",
       "      <td>2</td>\n",
       "      <td>0</td>\n",
       "      <td>0</td>\n",
       "      <td>0</td>\n",
       "      <td>1</td>\n",
       "      <td>0</td>\n",
       "      <td>-1</td>\n",
       "      <td>...</td>\n",
       "      <td>0</td>\n",
       "      <td>0</td>\n",
       "      <td>0</td>\n",
       "      <td>0</td>\n",
       "      <td>0</td>\n",
       "      <td>0</td>\n",
       "      <td>0</td>\n",
       "      <td>0</td>\n",
       "      <td>0</td>\n",
       "      <td>0</td>\n",
       "    </tr>\n",
       "    <tr>\n",
       "      <th>2</th>\n",
       "      <td>1</td>\n",
       "      <td>154</td>\n",
       "      <td>2</td>\n",
       "      <td>2</td>\n",
       "      <td>0</td>\n",
       "      <td>0</td>\n",
       "      <td>0</td>\n",
       "      <td>0</td>\n",
       "      <td>0</td>\n",
       "      <td>0</td>\n",
       "      <td>...</td>\n",
       "      <td>-1</td>\n",
       "      <td>0</td>\n",
       "      <td>0</td>\n",
       "      <td>0</td>\n",
       "      <td>0</td>\n",
       "      <td>0</td>\n",
       "      <td>0</td>\n",
       "      <td>0</td>\n",
       "      <td>0</td>\n",
       "      <td>0</td>\n",
       "    </tr>\n",
       "    <tr>\n",
       "      <th>3</th>\n",
       "      <td>-1</td>\n",
       "      <td>171</td>\n",
       "      <td>2</td>\n",
       "      <td>3</td>\n",
       "      <td>0</td>\n",
       "      <td>0</td>\n",
       "      <td>0</td>\n",
       "      <td>0</td>\n",
       "      <td>0</td>\n",
       "      <td>-1</td>\n",
       "      <td>...</td>\n",
       "      <td>0</td>\n",
       "      <td>0</td>\n",
       "      <td>0</td>\n",
       "      <td>0</td>\n",
       "      <td>0</td>\n",
       "      <td>0</td>\n",
       "      <td>0</td>\n",
       "      <td>0</td>\n",
       "      <td>0</td>\n",
       "      <td>0</td>\n",
       "    </tr>\n",
       "    <tr>\n",
       "      <th>4</th>\n",
       "      <td>1</td>\n",
       "      <td>122</td>\n",
       "      <td>2</td>\n",
       "      <td>3</td>\n",
       "      <td>0</td>\n",
       "      <td>1</td>\n",
       "      <td>0</td>\n",
       "      <td>0</td>\n",
       "      <td>0</td>\n",
       "      <td>0</td>\n",
       "      <td>...</td>\n",
       "      <td>1</td>\n",
       "      <td>0</td>\n",
       "      <td>0</td>\n",
       "      <td>0</td>\n",
       "      <td>0</td>\n",
       "      <td>0</td>\n",
       "      <td>0</td>\n",
       "      <td>0</td>\n",
       "      <td>0</td>\n",
       "      <td>-1</td>\n",
       "    </tr>\n",
       "  </tbody>\n",
       "</table>\n",
       "<p>5 rows × 117 columns</p>\n",
       "</div>"
      ],
      "text/plain": [
       "   -1  223  2  2.1  0  0.1  0.2  0.3  0.4  0.5  ...  0.93  0.94  0.95  0.96  \\\n",
       "0   1  152  2    2  0    0    0    1    0   -1  ...     0     0     0     0   \n",
       "1   1  131  2    2  0    0    0    1    0   -1  ...     0     0     0     0   \n",
       "2   1  154  2    2  0    0    0    0    0    0  ...    -1     0     0     0   \n",
       "3  -1  171  2    3  0    0    0    0    0   -1  ...     0     0     0     0   \n",
       "4   1  122  2    3  0    1    0    0    0    0  ...     1     0     0     0   \n",
       "\n",
       "   0.97  0.98  0.99  0.100  0.101  0.102  \n",
       "0     0     0     0      0      0      0  \n",
       "1     0     0     0      0      0      0  \n",
       "2     0     0     0      0      0      0  \n",
       "3     0     0     0      0      0      0  \n",
       "4     0     0     0      0      0     -1  \n",
       "\n",
       "[5 rows x 117 columns]"
      ]
     },
     "execution_count": 2,
     "metadata": {},
     "output_type": "execute_result"
    }
   ],
   "source": [
    "dota_data.head()"
   ]
  },
  {
   "cell_type": "markdown",
   "metadata": {},
   "source": [
    "# 計算每個角色上場次數和獲勝次數"
   ]
  },
  {
   "cell_type": "code",
   "execution_count": 3,
   "metadata": {},
   "outputs": [],
   "source": [
    "winning_rate = np.zeros([3, 113])\n",
    "\n",
    "percent_5 = dota_data.shape[0] / 10000 \n",
    "# percent_5 = 100\n",
    "\n",
    "for i in range (0, dota_data.shape[0]):\n",
    "# for i in range (0, 100):\n",
    "    for j in range (0, 113):\n",
    "        # 紀錄所有角色出場次數\n",
    "        if (dota_data.iloc[i, j + 4] != 0):\n",
    "            winning_rate[0, j] = winning_rate[0, j] + 1\n",
    "            # 紀錄所有角色獲勝次數\n",
    "            if (dota_data.iloc[i, j + 4] == dota_data.iloc[i, 0]):\n",
    "                winning_rate[1, j] = winning_rate[1, j] + 1\n",
    "                "
   ]
  },
  {
   "cell_type": "markdown",
   "metadata": {},
   "source": [
    "# 不同角色的使用次數\n",
    "\n",
    "- 有些角色重來都沒有在比賽中被使用過\n",
    "- 某幾個角色被使用的次數遠高於其他\n",
    "\n",
    "***推論***\n",
    "1. 某些角色的使用次數較高，可能是因為勝率較高所以較多人使用，因此想試著比較使用次數對勝率的關係"
   ]
  },
  {
   "cell_type": "code",
   "execution_count": 4,
   "metadata": {},
   "outputs": [
    {
     "data": {
      "image/png": "[encoded data removed]",
      "text/plain": [
       "<Figure size 432x288 with 1 Axes>"
      ]
     },
     "metadata": {
      "needs_background": "light"
     },
     "output_type": "display_data"
    }
   ],
   "source": [
    "plt.hist(winning_rate[0], bins=20)\n",
    "plt.xlabel('using times')\n",
    "plt.ylabel('number of heroes')\n",
    "plt.grid(True)\n",
    "plt.show()"
   ]
  },
  {
   "cell_type": "code",
   "execution_count": 5,
   "metadata": {},
   "outputs": [],
   "source": [
    "for i in range(0, 113): \n",
    "    if (winning_rate[0, i] == 0):\n",
    "        winning_rate[2, i] = 0\n",
    "    else:\n",
    "        winning_rate[2, i] = 100 * winning_rate[1, i] / winning_rate[0, i]"
   ]
  },
  {
   "cell_type": "markdown",
   "metadata": {},
   "source": [
    "# 英雄勝率與數量\n",
    "- 從下圖可以看出遊戲在角色的平衡性上不錯，大多的角色勝率都在50%左有"
   ]
  },
  {
   "cell_type": "code",
   "execution_count": 6,
   "metadata": {},
   "outputs": [
    {
     "data": {
      "image/png": "[encoded data removed]",
      "text/plain": [
       "<Figure size 432x288 with 1 Axes>"
      ]
     },
     "metadata": {
      "needs_background": "light"
     },
     "output_type": "display_data"
    }
   ],
   "source": [
    "plt.hist(winning_rate[2], bins=20)\n",
    "plt.xlabel('win rate(%)')\n",
    "plt.ylabel('number of heroes')\n",
    "plt.grid(True)\n",
    "plt.show()"
   ]
  },
  {
   "cell_type": "markdown",
   "metadata": {},
   "source": [
    "# 勝率會影響使用的次數\n",
    "\n",
    "- 前幾個常用的角色勝率大部分 > 50%\n",
    "- 最不常用的角色勝率 < 50\n",
    "- 勝率最高的角色並非最常被使用的，可能是因為操作難易度高不常被使用"
   ]
  },
  {
   "cell_type": "code",
   "execution_count": 7,
   "metadata": {},
   "outputs": [
    {
     "data": {
      "image/png": "[encoded data removed]",
      "text/plain": [
       "<Figure size 432x288 with 1 Axes>"
      ]
     },
     "metadata": {
      "needs_background": "light"
     },
     "output_type": "display_data"
    }
   ],
   "source": [
    "plt.scatter(winning_rate[0], winning_rate[2])\n",
    "plt.grid(True)\n",
    "plt.xlabel('using times')\n",
    "plt.ylabel('win rate(%)')\n",
    "plt.ylim(34, 64)\n",
    "plt.show()"
   ]
  },
  {
   "cell_type": "markdown",
   "metadata": {},
   "source": [
    "# 利用機率概念預測勝利隊伍 \n",
    "- 利用角色勝率的平均值預測勝負\n",
    "- 預測兩隊中角色勝率平均最大的隊伍獲勝"
   ]
  },
  {
   "cell_type": "code",
   "execution_count": 8,
   "metadata": {},
   "outputs": [],
   "source": [
    "def win_rate_predict (win_rate, data):\n",
    "    predict_correct = 0\n",
    "    predict_rate = np.zeros([2, data.shape[0]])\n",
    "    for i in range(0, data.shape[0]): \n",
    "#     for i in range(0, data.shape[0]):\n",
    "        team1_rate = 0\n",
    "        team2_rate = 0\n",
    "        predict = -1 \n",
    "        for j in range(0, 113):\n",
    "            if (data.iloc[i, j + 4] == 1):\n",
    "                team1_rate = team1_rate + win_rate[j]\n",
    "                \n",
    "            elif (data.iloc[i, j + 4] == -1):\n",
    "                team2_rate = team2_rate + win_rate[j]\n",
    "        \n",
    "        predict_rate[0, i] = team1_rate\n",
    "        predict_rate[1, i] = team2_rate\n",
    "        \n",
    "        if (team1_rate >= team2_rate):\n",
    "            predict = 1\n",
    "        \n",
    "        if (predict == data.iloc[i, 0]):\n",
    "            predict_correct = predict_correct + 1\n",
    "    \n",
    "    return predict_correct * 100 / data.shape[0], predict_rate\n",
    "            "
   ]
  },
  {
   "cell_type": "code",
   "execution_count": 9,
   "metadata": {},
   "outputs": [],
   "source": [
    "mean_train_predict, train_team_rate = win_rate_predict (winning_rate[2], dota_data)\n",
    "mean_test_predict, test_team_rate = win_rate_predict (winning_rate[2], dota_test_data)"
   ]
  },
  {
   "cell_type": "markdown",
   "metadata": {},
   "source": [
    "***利用平均勝率預測比賽結果***\n",
    "- train data 的勝率: 59.83% \n",
    "- test data 的勝率: 59.34%\n",
    "\n",
    "***推論***\n",
    "- 遊戲設計可能不平衡(有些角色過強，有些太弱)\n",
    "- 可以推測選擇角色對於勝率有影響"
   ]
  },
  {
   "cell_type": "code",
   "execution_count": 10,
   "metadata": {},
   "outputs": [
    {
     "name": "stdout",
     "output_type": "stream",
     "text": [
      "train accuracy: 59.83119083854116 \n",
      "test accuracy: 59.34129991256194 \n"
     ]
    }
   ],
   "source": [
    "print('train accuracy: %s ' % mean_train_predict)\n",
    "print('test accuracy: %s ' % mean_test_predict)"
   ]
  },
  {
   "cell_type": "markdown",
   "metadata": {},
   "source": [
    "# Baseline\n",
    "- 測試原始資料\n",
    "- 將所有data丟入decision tree計算(不做任何更動)\n",
    "- best test rate: 55.72% "
   ]
  },
  {
   "cell_type": "code",
   "execution_count": 11,
   "metadata": {},
   "outputs": [],
   "source": [
    "def best_dt(iteration, train_x, train_y, test_x, test_y):\n",
    "    acc_rate = np.zeros([2, iteration])\n",
    "    best_test = 0\n",
    "    for i in range(1, iteration + 1):\n",
    "        dtree = DecisionTreeClassifier(max_depth=i)\n",
    "        dtree.fit(train_x, train_y)\n",
    "\n",
    "\n",
    "        dt_train_predict = dtree.predict(train_x)\n",
    "        acc_rate[0, i - 1] = accuracy_score(dt_train_predict, train_y)\n",
    "        dt_test_predict = dtree.predict(test_x)\n",
    "        acc_rate[1, i - 1] = accuracy_score(dt_test_predict, test_y)\n",
    "        \n",
    "\n",
    "    # draw picture\n",
    "    x = list(range(1, iteration + 1))\n",
    "    \n",
    "    plt.plot(x, acc_rate[0], label='train')\n",
    "    plt.plot(x, acc_rate[1], label='test')\n",
    "    plt.xlabel('iterations')\n",
    "    plt.ylabel('accuracy(%)')\n",
    "    plt.grid(True)\n",
    "\n",
    "    plt.show()\n",
    "    \n",
    "    return acc_rate"
   ]
  },
  {
   "cell_type": "markdown",
   "metadata": {},
   "source": [
    "# 單純使用 Desicion Tree\n",
    "- best train rate: 74.20%\n",
    "- best test rate: 55.72%\n",
    "\n",
    "***推論***\n",
    "- 預測成功機率低於以平均來計算的勝率\n",
    "- 可能是因為Desicion Tree沒有辦法計算出每個角色的勝率作為參考"
   ]
  },
  {
   "cell_type": "code",
   "execution_count": 12,
   "metadata": {},
   "outputs": [
    {
     "data": {
      "image/png": "[encoded data removed]",
      "text/plain": [
       "<Figure size 432x288 with 1 Axes>"
      ]
     },
     "metadata": {
      "needs_background": "light"
     },
     "output_type": "display_data"
    },
    {
     "name": "stdout",
     "output_type": "stream",
     "text": [
      "best train rate: 0.741983183844402\n",
      "best test rate: 0.5582434664334985\n"
     ]
    }
   ],
   "source": [
    "train_raw_x = dota_data.drop(['-1'], axis=1)\n",
    "train_raw_y = dota_data['-1']\n",
    "test_raw_x = dota_test_data.drop(['-1'], axis=1)\n",
    "test_raw_y = dota_test_data['-1']\n",
    "\n",
    "acc_rate = best_dt(iteration=30, train_x=train_raw_x, train_y=train_raw_y, test_x=test_raw_x, test_y=test_raw_y)\n",
    "\n",
    "print(\"best train rate: %s\" % acc_rate[0].max())\n",
    "print(\"best test rate: %s\" % acc_rate[1].max())"
   ]
  },
  {
   "cell_type": "markdown",
   "metadata": {},
   "source": [
    "# 刪除部份資料\n",
    "- 刪除 Attribute: `Game Mode` `Game Type` `Cluster ID`\n",
    "\n",
    "***結果***\n",
    "- best train rate: 0.731891331800667\n",
    "- best test rate: 0.5564947051394151\n",
    "\n",
    "刪除後發現test data預測的結果跟沒有刪除時的一樣\n",
    "\n",
    "***推論***\n",
    "\n",
    "`Game Mode` `Game Type` `Cluster ID` 對勝率沒有影響\n"
   ]
  },
  {
   "cell_type": "code",
   "execution_count": 13,
   "metadata": {},
   "outputs": [
    {
     "data": {
      "image/png": "[encoded data removed]",
      "text/plain": [
       "<Figure size 432x288 with 1 Axes>"
      ]
     },
     "metadata": {
      "needs_background": "light"
     },
     "output_type": "display_data"
    },
    {
     "name": "stdout",
     "output_type": "stream",
     "text": [
      "best train rate: 0.7312761065958618\n",
      "best test rate: 0.5571747789760031\n"
     ]
    }
   ],
   "source": [
    "# 223\t2\t2.1\n",
    "# 223\t8\t2\n",
    "train_x = train_raw_x.drop(['223', '2', '2.1'], axis=1)\n",
    "test_x = test_raw_x.drop(['223', '8', '2'], axis=1)\n",
    "acc_rate = best_dt(iteration=30, train_x=train_x, train_y=train_raw_y, test_x=test_x, test_y=test_raw_y)\n",
    "print(\"best train rate: %s\" % acc_rate[0].max())\n",
    "print(\"best test rate: %s\" % acc_rate[1].max())"
   ]
  },
  {
   "cell_type": "markdown",
   "metadata": {},
   "source": [
    "# 嘗試加入角色平均勝率\n",
    "\n",
    "***結果***\n",
    "- 預測準確率上升到 59.38%\n",
    "- 當 decision tree 層數太多準確率會掉回 55% --> overfitting"
   ]
  },
  {
   "cell_type": "code",
   "execution_count": 14,
   "metadata": {},
   "outputs": [
    {
     "data": {
      "image/png": "[encoded data removed]",
      "text/plain": [
       "<Figure size 432x288 with 1 Axes>"
      ]
     },
     "metadata": {
      "needs_background": "light"
     },
     "output_type": "display_data"
    },
    {
     "name": "stdout",
     "output_type": "stream",
     "text": [
      "best train rate: 0.6676920420080087\n",
      "best test rate: 0.5940930729622074\n"
     ]
    }
   ],
   "source": [
    "train_x['1101'] = train_team_rate[0] \n",
    "train_x['1102'] = train_team_rate[1] \n",
    "test_x['1111'] = test_team_rate[0]  \n",
    "test_x['1112'] = test_team_rate[1]\n",
    "\n",
    "acc_rate = best_dt(iteration=15, train_x=train_x, train_y=train_raw_y, test_x=test_x, test_y=test_raw_y)\n",
    "print(\"best train rate: %s\" % acc_rate[0].max())\n",
    "print(\"best test rate: %s\" % acc_rate[1].max())"
   ]
  },
  {
   "cell_type": "markdown",
   "metadata": {},
   "source": [
    "# 計算不同角色合作或敵對的勝率\n",
    "\n",
    "在遊戲中經常有角色間會互克或是某些角色可以互相搭配，因此想試著從資料中找出這些關係，希望透過這些資訊增加classifier的準確率。\n",
    "\n",
    "***variable***\n",
    "- ally_table: 儲存不同角色合作的勝率\n",
    "- enemy_table: 儲存不同角色敵對的勝率"
   ]
  },
  {
   "cell_type": "code",
   "execution_count": 15,
   "metadata": {},
   "outputs": [],
   "source": [
    "ally_table = np.zeros([3, 113, 113])\n",
    "enemy_table = np.zeros([3, 113, 113])\n",
    "for i in range(0, dota_data.shape[0]):\n",
    "# for i in range(0, 1000):\n",
    "    team1 = []\n",
    "    team2 = []\n",
    "    # team list\n",
    "    for j in range(0, 113):\n",
    "        query = dota_data.iloc[i, j + 4]\n",
    "        if (query == 1):\n",
    "            team1.append(j)\n",
    "        elif (query == -1):\n",
    "            team2.append(j)\n",
    "        \n",
    "    for j in range(0, 5):\n",
    "        for k in range(0, 5):\n",
    "            # ally\n",
    "            ally_table[0, team1[j], team1[k]] = ally_table[0, team1[j], team1[k]] + 1\n",
    "            ally_table[0, team1[k], team1[j]] = ally_table[0, team1[k], team1[j]] + 1\n",
    "            ally_table[0, team2[j], team2[k]] = ally_table[0, team2[j], team2[k]] + 1\n",
    "            ally_table[0, team2[k], team2[j]] = ally_table[0, team2[k], team2[j]] + 1\n",
    "            \n",
    "            # enemy\n",
    "            enemy_table[0, team1[j], team2[k]] = enemy_table[0, team1[j], team2[k]] + 1\n",
    "            enemy_table[0, team2[k], team1[j]] = enemy_table[0, team2[k], team1[j]] + 1\n",
    "            \n",
    "            # win case\n",
    "            if (dota_data.iloc[i, 0]):\n",
    "                # ally\n",
    "                ally_table[1, team1[j], team1[k]] = ally_table[1, team1[j], team1[k]] + 1\n",
    "                ally_table[1, team1[k], team1[j]] = ally_table[1, team1[k], team1[j]] + 1\n",
    "                \n",
    "                # enemy\n",
    "                enemy_table[1, team1[j], team2[k]] = enemy_table[1, team1[j], team2[k]] + 1\n",
    "            \n",
    "            else:\n",
    "                # ally\n",
    "                ally_table[1, team2[j], team2[k]] = ally_table[1, team2[j], team2[k]] + 1\n",
    "                ally_table[1, team2[k], team2[j]] = ally_table[1, team2[k], team2[j]] + 1\n",
    "                \n",
    "                # enemy\n",
    "                enemy_table[1, team2[k], team1[j]] = enemy_table[1, team2[k], team1[j]] + 1\n",
    "                "
   ]
  },
  {
   "cell_type": "code",
   "execution_count": 16,
   "metadata": {},
   "outputs": [],
   "source": [
    "for i in range(0, 113):\n",
    "    for j in range(0, 113):\n",
    "        if (ally_table[0, i, j]):\n",
    "            ally_table[2, i, j] = ally_table[1, i, j] / ally_table[0, i, j]\n",
    "            \n",
    "        if (enemy_table[0, i, j]):\n",
    "            enemy_table[2, i, j] = enemy_table[1, i, j] / enemy_table[0, i, j]"
   ]
  },
  {
   "cell_type": "code",
   "execution_count": 17,
   "metadata": {},
   "outputs": [],
   "source": [
    "def get_ally_enemy_predict(data, t_ally, t_enemy):\n",
    "    # 0: team1 ally predict\n",
    "    # 1: team2 ally predict\n",
    "    # 2: team1 enemy predict\n",
    "    # 3: team2 enemy predict\n",
    "    predict = np.zeros([4, data.shape[0]])\n",
    "    \n",
    "    for i in range(0, data.shape[0]):\n",
    "        team1 = []\n",
    "        team2 = []\n",
    "        for j in range(0, 113):\n",
    "            query = data.iloc[i, j + 4]\n",
    "            if (query == 1):\n",
    "                team1.append(j)\n",
    "            elif (query == -1):\n",
    "                team2.append(j)\n",
    "        \n",
    "        for j in range(0, 5):\n",
    "            for k in range(0, 5):\n",
    "                if (j != k):\n",
    "                    predict[0, i] = predict[0, i] + t_ally[team1[k], team2[j]]\n",
    "                    predict[1, i] = predict[1, i] + t_ally[team2[k], team1[j]]\n",
    "                \n",
    "                predict[2, i] = predict[2, i] + t_enemy[team1[j], team2[k]]\n",
    "                predict[3, i] = predict[3, i] + t_enemy[team2[k], team1[j]]\n",
    "    \n",
    "    return predict"
   ]
  },
  {
   "cell_type": "code",
   "execution_count": 18,
   "metadata": {},
   "outputs": [],
   "source": [
    "train_ally_enemy_predict = get_ally_enemy_predict(dota_data, ally_table[2], enemy_table[2])\n",
    "test_ally_enemy_predict = get_ally_enemy_predict(dota_test_data, ally_table[2], enemy_table[2])"
   ]
  },
  {
   "cell_type": "code",
   "execution_count": 19,
   "metadata": {},
   "outputs": [],
   "source": [
    "train_x['00010'] = train_ally_enemy_predict[0]\n",
    "train_x['00011'] = train_ally_enemy_predict[1]\n",
    "train_x['00012'] = train_ally_enemy_predict[2]\n",
    "train_x['00013'] = train_ally_enemy_predict[3]\n",
    "\n",
    "test_x['00020'] = test_ally_enemy_predict[0]\n",
    "test_x['00021'] = test_ally_enemy_predict[1]\n",
    "test_x['00022'] = test_ally_enemy_predict[2]\n",
    "test_x['00023'] = test_ally_enemy_predict[3]"
   ]
  },
  {
   "cell_type": "markdown",
   "metadata": {},
   "source": [
    "# 利用角色之間的關係預測\n",
    "- 準確率: 59.44%\n",
    "- 加入角色之間的關係後的結果不如預期，其準確率只比原本的增加了一點點"
   ]
  },
  {
   "cell_type": "code",
   "execution_count": 20,
   "metadata": {},
   "outputs": [
    {
     "data": {
      "image/png": "[encoded data removed]",
      "text/plain": [
       "<Figure size 432x288 with 1 Axes>"
      ]
     },
     "metadata": {
      "needs_background": "light"
     },
     "output_type": "display_data"
    },
    {
     "name": "stdout",
     "output_type": "stream",
     "text": [
      "best train rate: 0.6766182041900074\n",
      "best test rate: 0.5943845331778879\n"
     ]
    }
   ],
   "source": [
    "acc_rate = best_dt(iteration=15, train_x=train_x, train_y=train_raw_y, test_x=test_x, test_y=test_raw_y)\n",
    "print(\"best train rate: %s\" % acc_rate[0].max())\n",
    "print(\"best test rate: %s\" % acc_rate[1].max())"
   ]
  },
  {
   "cell_type": "markdown",
   "metadata": {},
   "source": [
    "# 結論\n",
    "- 最後預測最好的結果為59%\n",
    "\n",
    "***個人想法***\n",
    "\n",
    "目前的電競遊戲主要看中的是選手的操作技術，會盡量讓角色間的平衡性不會差太多，但在這個資料中沒有紀錄選手的數據。雖然透過角色的選擇我們可以判斷對那方比較有利，但最終還是必須透過選手的技術與戰術來決定輸贏。"
   ]
  }
 ],
 "metadata": {
  "kernelspec": {
   "display_name": "Python 3",
   "language": "python",
   "name": "python3"
  },
  "language_info": {
   "codemirror_mode": {
    "name": "ipython",
    "version": 3
   },
   "file_extension": ".py",
   "mimetype": "text/x-python",
   "name": "python",
   "nbconvert_exporter": "python",
   "pygments_lexer": "ipython3",
   "version": "3.6.7"
  }
 },
 "nbformat": 4,
 "nbformat_minor": 2
}
