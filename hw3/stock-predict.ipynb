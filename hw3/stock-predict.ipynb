{
 "cells": [
  {
   "cell_type": "markdown",
   "metadata": {},
   "source": [
    "# FDA Hw3 predict stock"
   ]
  },
  {
   "cell_type": "code",
   "execution_count": 1,
   "metadata": {},
   "outputs": [
    {
     "name": "stderr",
     "output_type": "stream",
     "text": [
      "Using TensorFlow backend.\n"
     ]
    },
    {
     "data": {
      "text/html": [
       "<div>\n",
       "<style scoped>\n",
       "    .dataframe tbody tr th:only-of-type {\n",
       "        vertical-align: middle;\n",
       "    }\n",
       "\n",
       "    .dataframe tbody tr th {\n",
       "        vertical-align: top;\n",
       "    }\n",
       "\n",
       "    .dataframe thead th {\n",
       "        text-align: right;\n",
       "    }\n",
       "</style>\n",
       "<table border=\"1\" class=\"dataframe\">\n",
       "  <thead>\n",
       "    <tr style=\"text-align: right;\">\n",
       "      <th></th>\n",
       "      <th>Date</th>\n",
       "      <th>Open Price</th>\n",
       "      <th>Close Price</th>\n",
       "      <th>High Price</th>\n",
       "      <th>Low Price</th>\n",
       "      <th>Volume</th>\n",
       "    </tr>\n",
       "  </thead>\n",
       "  <tbody>\n",
       "    <tr>\n",
       "      <th>0</th>\n",
       "      <td>02-Jan-2009</td>\n",
       "      <td>902.99</td>\n",
       "      <td>931.80</td>\n",
       "      <td>934.73</td>\n",
       "      <td>899.35</td>\n",
       "      <td>4048270080</td>\n",
       "    </tr>\n",
       "    <tr>\n",
       "      <th>1</th>\n",
       "      <td>05-Jan-2009</td>\n",
       "      <td>929.17</td>\n",
       "      <td>927.45</td>\n",
       "      <td>936.63</td>\n",
       "      <td>919.53</td>\n",
       "      <td>5413910016</td>\n",
       "    </tr>\n",
       "    <tr>\n",
       "      <th>2</th>\n",
       "      <td>06-Jan-2009</td>\n",
       "      <td>931.17</td>\n",
       "      <td>934.70</td>\n",
       "      <td>943.85</td>\n",
       "      <td>927.28</td>\n",
       "      <td>5392620032</td>\n",
       "    </tr>\n",
       "    <tr>\n",
       "      <th>3</th>\n",
       "      <td>07-Jan-2009</td>\n",
       "      <td>927.45</td>\n",
       "      <td>906.65</td>\n",
       "      <td>927.45</td>\n",
       "      <td>902.37</td>\n",
       "      <td>4704940032</td>\n",
       "    </tr>\n",
       "    <tr>\n",
       "      <th>4</th>\n",
       "      <td>08-Jan-2009</td>\n",
       "      <td>905.73</td>\n",
       "      <td>909.73</td>\n",
       "      <td>910.00</td>\n",
       "      <td>896.81</td>\n",
       "      <td>4991549952</td>\n",
       "    </tr>\n",
       "  </tbody>\n",
       "</table>\n",
       "</div>"
      ],
      "text/plain": [
       "          Date  Open Price  Close Price  High Price  Low Price      Volume\n",
       "0  02-Jan-2009      902.99       931.80      934.73     899.35  4048270080\n",
       "1  05-Jan-2009      929.17       927.45      936.63     919.53  5413910016\n",
       "2  06-Jan-2009      931.17       934.70      943.85     927.28  5392620032\n",
       "3  07-Jan-2009      927.45       906.65      927.45     902.37  4704940032\n",
       "4  08-Jan-2009      905.73       909.73      910.00     896.81  4991549952"
      ]
     },
     "execution_count": 1,
     "metadata": {},
     "output_type": "execute_result"
    }
   ],
   "source": [
    "import pandas as pd \n",
    "import matplotlib.pyplot as plt\n",
    "import numpy as np\n",
    "from sklearn.metrics import accuracy_score\n",
    "\n",
    "# import svm package\n",
    "from sklearn import datasets \n",
    "from sklearn.svm import SVC\n",
    "\n",
    "from sklearn.metrics import accuracy_score\n",
    "\n",
    "# for logistic regression\n",
    "from sklearn import linear_model, model_selection, metrics\n",
    "from sklearn.linear_model import LogisticRegression\n",
    "\n",
    "# nerual network\n",
    "from keras import models, layers, optimizers\n",
    "\n",
    "stock_data = pd.read_csv('stock_data.csv')\n",
    "stock_data.head()\n"
   ]
  },
  {
   "cell_type": "code",
   "execution_count": 2,
   "metadata": {
    "scrolled": true
   },
   "outputs": [],
   "source": [
    "stock_data['move open'] = None\n",
    "stock_data['move close'] = None\n",
    "stock_data['move high'] = None\n",
    "stock_data['move low'] = None\n",
    "stock_data['move volume'] = None"
   ]
  },
  {
   "cell_type": "markdown",
   "metadata": {},
   "source": [
    "# 預測明天股價\n",
    "如果明天的股價比今天的高則move1值為，相反為0\n",
    "\n",
    "舉例來說:\n",
    "    明天的Open Price大於今天的Open Price則，今天的move open為1，反之為0"
   ]
  },
  {
   "cell_type": "code",
   "execution_count": 3,
   "metadata": {},
   "outputs": [
    {
     "data": {
      "text/html": [
       "<div>\n",
       "<style scoped>\n",
       "    .dataframe tbody tr th:only-of-type {\n",
       "        vertical-align: middle;\n",
       "    }\n",
       "\n",
       "    .dataframe tbody tr th {\n",
       "        vertical-align: top;\n",
       "    }\n",
       "\n",
       "    .dataframe thead th {\n",
       "        text-align: right;\n",
       "    }\n",
       "</style>\n",
       "<table border=\"1\" class=\"dataframe\">\n",
       "  <thead>\n",
       "    <tr style=\"text-align: right;\">\n",
       "      <th></th>\n",
       "      <th>Date</th>\n",
       "      <th>Open Price</th>\n",
       "      <th>Close Price</th>\n",
       "      <th>High Price</th>\n",
       "      <th>Low Price</th>\n",
       "      <th>Volume</th>\n",
       "      <th>move open</th>\n",
       "      <th>move close</th>\n",
       "      <th>move high</th>\n",
       "      <th>move low</th>\n",
       "      <th>move volume</th>\n",
       "    </tr>\n",
       "  </thead>\n",
       "  <tbody>\n",
       "    <tr>\n",
       "      <th>0</th>\n",
       "      <td>02-Jan-2009</td>\n",
       "      <td>902.99</td>\n",
       "      <td>931.80</td>\n",
       "      <td>934.73</td>\n",
       "      <td>899.35</td>\n",
       "      <td>4048270080</td>\n",
       "      <td>1</td>\n",
       "      <td>0</td>\n",
       "      <td>1</td>\n",
       "      <td>1</td>\n",
       "      <td>1</td>\n",
       "    </tr>\n",
       "    <tr>\n",
       "      <th>1</th>\n",
       "      <td>05-Jan-2009</td>\n",
       "      <td>929.17</td>\n",
       "      <td>927.45</td>\n",
       "      <td>936.63</td>\n",
       "      <td>919.53</td>\n",
       "      <td>5413910016</td>\n",
       "      <td>1</td>\n",
       "      <td>1</td>\n",
       "      <td>1</td>\n",
       "      <td>1</td>\n",
       "      <td>0</td>\n",
       "    </tr>\n",
       "    <tr>\n",
       "      <th>2</th>\n",
       "      <td>06-Jan-2009</td>\n",
       "      <td>931.17</td>\n",
       "      <td>934.70</td>\n",
       "      <td>943.85</td>\n",
       "      <td>927.28</td>\n",
       "      <td>5392620032</td>\n",
       "      <td>0</td>\n",
       "      <td>0</td>\n",
       "      <td>0</td>\n",
       "      <td>0</td>\n",
       "      <td>0</td>\n",
       "    </tr>\n",
       "    <tr>\n",
       "      <th>3</th>\n",
       "      <td>07-Jan-2009</td>\n",
       "      <td>927.45</td>\n",
       "      <td>906.65</td>\n",
       "      <td>927.45</td>\n",
       "      <td>902.37</td>\n",
       "      <td>4704940032</td>\n",
       "      <td>0</td>\n",
       "      <td>1</td>\n",
       "      <td>0</td>\n",
       "      <td>0</td>\n",
       "      <td>1</td>\n",
       "    </tr>\n",
       "    <tr>\n",
       "      <th>4</th>\n",
       "      <td>08-Jan-2009</td>\n",
       "      <td>905.73</td>\n",
       "      <td>909.73</td>\n",
       "      <td>910.00</td>\n",
       "      <td>896.81</td>\n",
       "      <td>4991549952</td>\n",
       "      <td>1</td>\n",
       "      <td>0</td>\n",
       "      <td>1</td>\n",
       "      <td>0</td>\n",
       "      <td>0</td>\n",
       "    </tr>\n",
       "  </tbody>\n",
       "</table>\n",
       "</div>"
      ],
      "text/plain": [
       "          Date  Open Price  Close Price  High Price  Low Price      Volume  \\\n",
       "0  02-Jan-2009      902.99       931.80      934.73     899.35  4048270080   \n",
       "1  05-Jan-2009      929.17       927.45      936.63     919.53  5413910016   \n",
       "2  06-Jan-2009      931.17       934.70      943.85     927.28  5392620032   \n",
       "3  07-Jan-2009      927.45       906.65      927.45     902.37  4704940032   \n",
       "4  08-Jan-2009      905.73       909.73      910.00     896.81  4991549952   \n",
       "\n",
       "  move open move close move high move low move volume  \n",
       "0         1          0         1        1           1  \n",
       "1         1          1         1        1           0  \n",
       "2         0          0         0        0           0  \n",
       "3         0          1         0        0           1  \n",
       "4         1          0         1        0           0  "
      ]
     },
     "execution_count": 3,
     "metadata": {},
     "output_type": "execute_result"
    }
   ],
   "source": [
    "for i in range(1, stock_data.shape[0]):\n",
    "    # open price\n",
    "    if (stock_data.iloc[i, 1] > stock_data.iloc[i - 1, 1]):\n",
    "        stock_data.iloc[i - 1, 6] = 1\n",
    "    else:\n",
    "        stock_data.iloc[i - 1, 6] = 0\n",
    "        \n",
    "    # close price\n",
    "    if (stock_data.iloc[i, 2] > stock_data.iloc[i - 1, 2]):\n",
    "        stock_data.iloc[i - 1, 7] = 1\n",
    "    else:\n",
    "        stock_data.iloc[i - 1, 7] = 0\n",
    "    \n",
    "    # high price\n",
    "    if (stock_data.iloc[i, 3] > stock_data.iloc[i - 1, 3]):\n",
    "        stock_data.iloc[i - 1, 8] = 1\n",
    "    else:\n",
    "        stock_data.iloc[i - 1, 8] = 0\n",
    "    \n",
    "    # low price\n",
    "    if (stock_data.iloc[i, 4] > stock_data.iloc[i - 1, 4]):\n",
    "        stock_data.iloc[i - 1, 9] = 1\n",
    "    else:\n",
    "        stock_data.iloc[i - 1, 9] = 0\n",
    "    \n",
    "    # volume\n",
    "    if (stock_data.iloc[i, 5] > stock_data.iloc[i - 1, 5]):\n",
    "        stock_data.iloc[i - 1, 10] = 1\n",
    "    else:\n",
    "        stock_data.iloc[i - 1, 10] = 0\n",
    "\n",
    "stock_data.head()"
   ]
  },
  {
   "cell_type": "markdown",
   "metadata": {},
   "source": [
    "# Normalize all attribute\n",
    "為了方便比較，將所有資料的數值正規劃"
   ]
  },
  {
   "cell_type": "code",
   "execution_count": 4,
   "metadata": {},
   "outputs": [
    {
     "data": {
      "text/html": [
       "<div>\n",
       "<style scoped>\n",
       "    .dataframe tbody tr th:only-of-type {\n",
       "        vertical-align: middle;\n",
       "    }\n",
       "\n",
       "    .dataframe tbody tr th {\n",
       "        vertical-align: top;\n",
       "    }\n",
       "\n",
       "    .dataframe thead th {\n",
       "        text-align: right;\n",
       "    }\n",
       "</style>\n",
       "<table border=\"1\" class=\"dataframe\">\n",
       "  <thead>\n",
       "    <tr style=\"text-align: right;\">\n",
       "      <th></th>\n",
       "      <th>Open Price</th>\n",
       "      <th>Close Price</th>\n",
       "      <th>High Price</th>\n",
       "      <th>Low Price</th>\n",
       "      <th>Volume</th>\n",
       "      <th>nor op</th>\n",
       "      <th>nor cp</th>\n",
       "      <th>nor hp</th>\n",
       "      <th>nor lp</th>\n",
       "      <th>nor vl</th>\n",
       "    </tr>\n",
       "  </thead>\n",
       "  <tbody>\n",
       "    <tr>\n",
       "      <th>count</th>\n",
       "      <td>2516.000000</td>\n",
       "      <td>2516.000000</td>\n",
       "      <td>2516.000000</td>\n",
       "      <td>2516.000000</td>\n",
       "      <td>2.516000e+03</td>\n",
       "      <td>2516.000000</td>\n",
       "      <td>2516.000000</td>\n",
       "      <td>2516.000000</td>\n",
       "      <td>2516.000000</td>\n",
       "      <td>2516.000000</td>\n",
       "    </tr>\n",
       "    <tr>\n",
       "      <th>mean</th>\n",
       "      <td>1765.493029</td>\n",
       "      <td>1765.867067</td>\n",
       "      <td>1774.433740</td>\n",
       "      <td>1755.869141</td>\n",
       "      <td>2.869158e+09</td>\n",
       "      <td>0.481162</td>\n",
       "      <td>0.483243</td>\n",
       "      <td>0.480560</td>\n",
       "      <td>0.481825</td>\n",
       "      <td>0.273310</td>\n",
       "    </tr>\n",
       "    <tr>\n",
       "      <th>std</th>\n",
       "      <td>566.003293</td>\n",
       "      <td>565.538751</td>\n",
       "      <td>566.671163</td>\n",
       "      <td>564.789277</td>\n",
       "      <td>1.312045e+09</td>\n",
       "      <td>0.250724</td>\n",
       "      <td>0.250880</td>\n",
       "      <td>0.252343</td>\n",
       "      <td>0.249871</td>\n",
       "      <td>0.152529</td>\n",
       "    </tr>\n",
       "    <tr>\n",
       "      <th>min</th>\n",
       "      <td>679.280000</td>\n",
       "      <td>676.530000</td>\n",
       "      <td>695.270000</td>\n",
       "      <td>666.790000</td>\n",
       "      <td>5.181584e+08</td>\n",
       "      <td>0.000000</td>\n",
       "      <td>0.000000</td>\n",
       "      <td>0.000000</td>\n",
       "      <td>0.000000</td>\n",
       "      <td>0.000000</td>\n",
       "    </tr>\n",
       "    <tr>\n",
       "      <th>25%</th>\n",
       "      <td>1278.175000</td>\n",
       "      <td>1278.315000</td>\n",
       "      <td>1286.160000</td>\n",
       "      <td>1268.235000</td>\n",
       "      <td>2.016047e+09</td>\n",
       "      <td>0.265294</td>\n",
       "      <td>0.266959</td>\n",
       "      <td>0.263128</td>\n",
       "      <td>0.266088</td>\n",
       "      <td>0.174134</td>\n",
       "    </tr>\n",
       "    <tr>\n",
       "      <th>50%</th>\n",
       "      <td>1806.270000</td>\n",
       "      <td>1805.450000</td>\n",
       "      <td>1810.450000</td>\n",
       "      <td>1800.675000</td>\n",
       "      <td>2.425113e+09</td>\n",
       "      <td>0.499225</td>\n",
       "      <td>0.500803</td>\n",
       "      <td>0.496598</td>\n",
       "      <td>0.501648</td>\n",
       "      <td>0.221689</td>\n",
       "    </tr>\n",
       "    <tr>\n",
       "      <th>75%</th>\n",
       "      <td>2122.492500</td>\n",
       "      <td>2124.222500</td>\n",
       "      <td>2129.150000</td>\n",
       "      <td>2113.325000</td>\n",
       "      <td>3.248909e+09</td>\n",
       "      <td>0.639302</td>\n",
       "      <td>0.642214</td>\n",
       "      <td>0.638517</td>\n",
       "      <td>0.639969</td>\n",
       "      <td>0.317457</td>\n",
       "    </tr>\n",
       "    <tr>\n",
       "      <th>max</th>\n",
       "      <td>2936.760000</td>\n",
       "      <td>2930.750000</td>\n",
       "      <td>2940.910000</td>\n",
       "      <td>2927.110000</td>\n",
       "      <td>9.120100e+09</td>\n",
       "      <td>1.000000</td>\n",
       "      <td>1.000000</td>\n",
       "      <td>1.000000</td>\n",
       "      <td>1.000000</td>\n",
       "      <td>1.000000</td>\n",
       "    </tr>\n",
       "  </tbody>\n",
       "</table>\n",
       "</div>"
      ],
      "text/plain": [
       "        Open Price  Close Price   High Price    Low Price        Volume  \\\n",
       "count  2516.000000  2516.000000  2516.000000  2516.000000  2.516000e+03   \n",
       "mean   1765.493029  1765.867067  1774.433740  1755.869141  2.869158e+09   \n",
       "std     566.003293   565.538751   566.671163   564.789277  1.312045e+09   \n",
       "min     679.280000   676.530000   695.270000   666.790000  5.181584e+08   \n",
       "25%    1278.175000  1278.315000  1286.160000  1268.235000  2.016047e+09   \n",
       "50%    1806.270000  1805.450000  1810.450000  1800.675000  2.425113e+09   \n",
       "75%    2122.492500  2124.222500  2129.150000  2113.325000  3.248909e+09   \n",
       "max    2936.760000  2930.750000  2940.910000  2927.110000  9.120100e+09   \n",
       "\n",
       "            nor op       nor cp       nor hp       nor lp       nor vl  \n",
       "count  2516.000000  2516.000000  2516.000000  2516.000000  2516.000000  \n",
       "mean      0.481162     0.483243     0.480560     0.481825     0.273310  \n",
       "std       0.250724     0.250880     0.252343     0.249871     0.152529  \n",
       "min       0.000000     0.000000     0.000000     0.000000     0.000000  \n",
       "25%       0.265294     0.266959     0.263128     0.266088     0.174134  \n",
       "50%       0.499225     0.500803     0.496598     0.501648     0.221689  \n",
       "75%       0.639302     0.642214     0.638517     0.639969     0.317457  \n",
       "max       1.000000     1.000000     1.000000     1.000000     1.000000  "
      ]
     },
     "execution_count": 4,
     "metadata": {},
     "output_type": "execute_result"
    }
   ],
   "source": [
    "st_op = stock_data['Open Price']\n",
    "st_cp = stock_data['Close Price']\n",
    "st_hp = stock_data['High Price']\n",
    "st_lp = stock_data['Low Price']\n",
    "st_vl = stock_data['Volume']\n",
    "\n",
    "# normalized open price\n",
    "def op_nor (num):\n",
    "    return (num - st_op.min()) / (st_op.max() - st_op.min())\n",
    "\n",
    "\n",
    "# normalized close price\n",
    "def cp_nor (num):\n",
    "    return (num - st_cp.min()) / (st_cp.max() - st_cp.min())\n",
    "\n",
    "# normalized high price\n",
    "def hp_nor (num):\n",
    "    return (num - st_hp.min()) / (st_hp.max() - st_hp.min())\n",
    "\n",
    "# normalized low price\n",
    "def lp_nor (num):\n",
    "    return (num - st_lp.min()) / (st_lp.max() - st_lp.min())\n",
    "\n",
    "# normalized volume\n",
    "def vl_nor (num):\n",
    "    return (num - st_vl.min()) / (st_vl.max() - st_vl.min())\n",
    "\n",
    "stock_data['nor op'] = stock_data['Open Price'].apply(op_nor)\n",
    "stock_data['nor cp'] = stock_data['Close Price'].apply(cp_nor)\n",
    "stock_data['nor hp'] = stock_data['High Price'].apply(hp_nor)\n",
    "stock_data['nor lp'] = stock_data['Low Price'].apply(lp_nor)\n",
    "stock_data['nor vl'] = stock_data['Volume'].apply(vl_nor)\n",
    "\n",
    "stock_data.describe()"
   ]
  },
  {
   "cell_type": "markdown",
   "metadata": {},
   "source": [
    "# 正規劃後資料隨時間的變化\n",
    "從下圖可以明顯觀察到volume與其他數據關係不大，open price、close price、high price和low price具有高度正相關。"
   ]
  },
  {
   "cell_type": "code",
   "execution_count": 5,
   "metadata": {},
   "outputs": [
    {
     "data": {
      "text/plain": [
       "<matplotlib.axes._subplots.AxesSubplot at 0x7f6e6fd07828>"
      ]
     },
     "execution_count": 5,
     "metadata": {},
     "output_type": "execute_result"
    },
    {
     "data": {
      "image/png": "[encoded data removed]",
      "text/plain": [
       "<Figure size 432x288 with 1 Axes>"
      ]
     },
     "metadata": {
      "needs_background": "light"
     },
     "output_type": "display_data"
    }
   ],
   "source": [
    "stock_data[['nor op', 'nor cp', 'nor hp', 'nor lp', 'nor vl']].plot()"
   ]
  },
  {
   "cell_type": "markdown",
   "metadata": {},
   "source": [
    "# 將資料分成訓練資料與測試資料\n"
   ]
  },
  {
   "cell_type": "code",
   "execution_count": 6,
   "metadata": {},
   "outputs": [],
   "source": [
    "train_data = stock_data.iloc[0:2264]\n",
    "test_data = stock_data.iloc[2264:2515] # don't use the last one\n",
    "# train data\n",
    "x_train = train_data[['Open Price', 'Close Price', 'High Price', 'Low Price', 'Volume']]\n",
    "y_train = train_data[['move open', 'move close', 'move high', 'move low', 'move volume']]\n",
    "\n",
    "# test data\n",
    "x_test = test_data[['Open Price', 'Close Price', 'High Price', 'Low Price', 'Volume']]\n",
    "y_test = test_data[['move open', 'move close', 'move high', 'move low', 'move volume']]\n",
    "\n",
    "# standard data\n",
    "x_train_std = train_data[['nor op', 'nor cp', 'nor hp', 'nor lp', 'nor vl']]\n",
    "x_test_std = test_data[['nor op', 'nor cp', 'nor hp', 'nor lp', 'nor vl']]"
   ]
  },
  {
   "cell_type": "markdown",
   "metadata": {},
   "source": [
    "# 產生比較的依據\n",
    "看全部猜對的機率，得出來結果為54.4%左右，希望目標能差越這個數字"
   ]
  },
  {
   "cell_type": "code",
   "execution_count": 7,
   "metadata": {},
   "outputs": [
    {
     "name": "stdout",
     "output_type": "stream",
     "text": [
      "basic accuracy: 0.5437549721559268\n"
     ]
    }
   ],
   "source": [
    "y_ans = pd.Series(stock_data['move close'])\n",
    "y_ans = y_ans[:2514]\n",
    "y_ans = y_ans.astype('int')\n",
    "fake_guess = list(1 for i in range(0, 2514))\n",
    "fake_guess = pd.Series(fake_guess)\n",
    "basic_acc = accuracy_score(fake_guess, y_ans)\n",
    "print('basic accuracy: %s' % basic_acc)"
   ]
  },
  {
   "cell_type": "markdown",
   "metadata": {},
   "source": [
    "# SVM\n",
    "第一次得出來的結果不是很理想，train的準確率只比全部猜長的準確率高了0.5%，測試資料更慘連一半的機率都不到，可以算是完全失敗。"
   ]
  },
  {
   "cell_type": "code",
   "execution_count": 8,
   "metadata": {
    "scrolled": true
   },
   "outputs": [
    {
     "data": {
      "text/plain": [
       "SVC(C=0.05, cache_size=200, class_weight=None, coef0=0.0,\n",
       "  decision_function_shape='ovr', degree=3, gamma='auto_deprecated',\n",
       "  kernel='linear', max_iter=-1, probability=True, random_state=None,\n",
       "  shrinking=True, tol=0.001, verbose=False)"
      ]
     },
     "execution_count": 8,
     "metadata": {},
     "output_type": "execute_result"
    }
   ],
   "source": [
    "penalty = 0.05\n",
    "svm = SVC(C=penalty, kernel='linear', probability=True)\n",
    "\n",
    "y_train = y_train.astype('int')   # 將資料轉型\n",
    "svm.fit(x_train[['Open Price', 'Close Price', 'High Price', 'Low Price']], y_train['move close'])"
   ]
  },
  {
   "cell_type": "code",
   "execution_count": 9,
   "metadata": {},
   "outputs": [
    {
     "name": "stdout",
     "output_type": "stream",
     "text": [
      "test accuracy: 0.4820717131474104\n",
      "train accuracy: 0.5468197879858657\n"
     ]
    }
   ],
   "source": [
    "y_test = y_test.astype('int')\n",
    "y_train = y_train.astype('int')\n",
    "acc_rate_test = accuracy_score(y_test['move close'], svm.predict(x_test[['Open Price', 'Close Price', 'High Price', 'Low Price']]))\n",
    "acc_rate_train = accuracy_score(y_train['move close'], svm.predict(x_train[['Open Price', 'Close Price', 'High Price', 'Low Price']]))\n",
    "print('test accuracy: %s' % acc_rate_test)\n",
    "print('train accuracy: %s' % acc_rate_train)"
   ]
  },
  {
   "cell_type": "markdown",
   "metadata": {},
   "source": [
    "# 試著減少餵給svm的參數\n",
    "只餵svm 'open price'和'close price'，神奇的是發生了，svm的準確率上升了，可以說明上個步驟為太多參數可能導致overfitting"
   ]
  },
  {
   "cell_type": "code",
   "execution_count": 10,
   "metadata": {},
   "outputs": [
    {
     "name": "stdout",
     "output_type": "stream",
     "text": [
      "test accuracy: 0.5179282868525896\n",
      "train accuracy: 0.5463780918727915\n"
     ]
    }
   ],
   "source": [
    "penalty = 0.05\n",
    "svm = SVC(C=penalty, kernel='linear', probability=True)\n",
    "\n",
    "y_train = y_train.astype('int')   # 將資料轉型\n",
    "svm.fit(x_train[['Open Price', 'Close Price']], y_train['move close'])\n",
    "y_test = y_test.astype('int')\n",
    "y_train = y_train.astype('int')\n",
    "acc_rate_test = accuracy_score(y_test['move close'], svm.predict(x_test[['Open Price', 'Close Price']]))\n",
    "acc_rate_train = accuracy_score(y_train['move close'], svm.predict(x_train[['Open Price', 'Close Price']]))\n",
    "print('test accuracy: %s' % acc_rate_test)\n",
    "print('train accuracy: %s' % acc_rate_train)"
   ]
  },
  {
   "cell_type": "code",
   "execution_count": 14,
   "metadata": {},
   "outputs": [],
   "source": [
    "def svn_try(penalty, kernel):\n",
    "    global x_train, x_test, y_test, y_train\n",
    "    svm = SVC(C=penalty, kernel=kernel, probability=True)\n",
    "\n",
    "    y_train = y_train.astype('int')   # 將資料轉型\n",
    "    svm.fit(x_train[['Open Price', 'Close Price']], y_train['move close'])\n",
    "    y_test = y_test.astype('int')\n",
    "    y_train = y_train.astype('int')\n",
    "    acc_rate_test = accuracy_score(y_test['move close'], svm.predict(x_test[['Open Price', 'Close Price']]))\n",
    "    acc_rate_train = accuracy_score(y_train['move close'], svm.predict(x_train[['Open Price', 'Close Price']]))\n",
    "    print('test accuracy: %s' % acc_rate_test)\n",
    "    print('train accuracy: %s' % acc_rate_train)"
   ]
  },
  {
   "cell_type": "code",
   "execution_count": 15,
   "metadata": {},
   "outputs": [
    {
     "name": "stdout",
     "output_type": "stream",
     "text": [
      "test accuracy: 0.5258964143426295\n",
      "train accuracy: 0.5459363957597173\n"
     ]
    }
   ],
   "source": [
    "svn_try(0.1, 'linear')"
   ]
  },
  {
   "cell_type": "code",
   "execution_count": 16,
   "metadata": {},
   "outputs": [
    {
     "name": "stdout",
     "output_type": "stream",
     "text": [
      "test accuracy: 0.5258964143426295\n",
      "train accuracy: 0.5463780918727915\n"
     ]
    }
   ],
   "source": [
    "svn_try(1, 'linear')"
   ]
  },
  {
   "cell_type": "code",
   "execution_count": null,
   "metadata": {},
   "outputs": [
    {
     "name": "stderr",
     "output_type": "stream",
     "text": [
      "/home/jack/.local/lib/python3.6/site-packages/sklearn/svm/base.py:196: FutureWarning: The default value of gamma will change from 'auto' to 'scale' in version 0.22 to account better for unscaled features. Set gamma explicitly to 'auto' or 'scale' to avoid this warning.\n",
      "  \"avoid this warning.\", FutureWarning)\n"
     ]
    }
   ],
   "source": [
    "\n",
    "svn_try(0.01, 'poly')"
   ]
  },
  {
   "cell_type": "markdown",
   "metadata": {},
   "source": [
    "# logistic regression \n"
   ]
  },
  {
   "cell_type": "code",
   "execution_count": null,
   "metadata": {},
   "outputs": [],
   "source": [
    "def logistic(x_train, y_train, x_test, y_test):\n",
    "    lrm = LogisticRegression().fit(x_train, y_train['move close'])\n",
    "    acc_train = accuracy_score(y_train['move close'], lrm.predict(x_train))\n",
    "    acc_test = accuracy_score(y_test['move close'], lrm.predict(x_test))\n",
    "    print('    train accuracy: %s' % acc_train)\n",
    "    print('    test accuracy: %s' % acc_test)"
   ]
  },
  {
   "cell_type": "code",
   "execution_count": null,
   "metadata": {},
   "outputs": [],
   "source": [
    "print(\"沒有正規劃準確率\")\n",
    "logistic(x_train, y_train, x_test, y_test)"
   ]
  },
  {
   "cell_type": "code",
   "execution_count": null,
   "metadata": {},
   "outputs": [],
   "source": [
    "print(\"正規劃準確率\")\n",
    "logistic(x_train_std, y_train, x_test_std, y_test)"
   ]
  },
  {
   "cell_type": "markdown",
   "metadata": {},
   "source": [
    "# Gradient Descent Model\n",
    "***Reference***\n",
    "- [SGDClassifier](https://scikit-learn.org/stable/modules/generated/sklearn.linear_model.SGDClassifier.html)"
   ]
  },
  {
   "cell_type": "code",
   "execution_count": null,
   "metadata": {},
   "outputs": [],
   "source": [
    "# def logistic_regression (x_data, y_data, )\n",
    "re_model = linear_model.SGDClassifier(loss='hinge', max_iter=100000, tol=-np.infty)\n",
    "re_model.fit(x_train, y_train['move close'])\n",
    "acc_rate_train = accuracy_score(y_train['move close'], re_model.predict(x_train))\n",
    "acc_rate_test = accuracy_score(y_test['move close'], re_model.predict(x_test))\n",
    "\n",
    "\n",
    "# normalizse\n",
    "print('traning data準確率: %s' % acc_rate_train)\n",
    "print('testing data準確率: %s' % acc_rate_test)"
   ]
  },
  {
   "cell_type": "markdown",
   "metadata": {},
   "source": [
    "# Neural Network"
   ]
  },
  {
   "cell_type": "code",
   "execution_count": null,
   "metadata": {},
   "outputs": [],
   "source": []
  },
  {
   "cell_type": "code",
   "execution_count": null,
   "metadata": {
    "scrolled": true
   },
   "outputs": [],
   "source": [
    "hidden_units = 20\n",
    "activation = 'sigmoid'\n",
    "penalize = 0.01\n",
    "learning_rate = 0.001\n",
    "epochs = 50\n",
    "batch_size = 500 \n",
    "\n",
    "model = models.Sequential()\n",
    "\n",
    "\n",
    "# hidden layer\n",
    "model.add(layers.Dense(input_dim = 5,\n",
    "                       units = hidden_units,\n",
    "                       activation=activation))\n",
    "\n",
    "# output layer\n",
    "model.add(layers.Dense(input_dim = hidden_units,\n",
    "                       units = 1,\n",
    "                       activation=activation))\n",
    "\n",
    "# loss function and optimizer\n",
    "model.compile(loss='binary_crossentropy',\n",
    "              optimizer=optimizers.Adam(lr=learning_rate),\n",
    "              metrics=['accuracy'])\n",
    "\n",
    "history = model.fit(x_train, y_train['move close'], epochs=epochs, batch_size=batch_size) \n",
    "\n",
    "losses = history.history['loss']\n",
    "plt.plot(range(len(losses)), losses, 'r')\n",
    "plt.show()"
   ]
  },
  {
   "cell_type": "code",
   "execution_count": null,
   "metadata": {},
   "outputs": [],
   "source": [
    "# class weight"
   ]
  },
  {
   "cell_type": "code",
   "execution_count": null,
   "metadata": {},
   "outputs": [],
   "source": []
  },
  {
   "cell_type": "code",
   "execution_count": null,
   "metadata": {},
   "outputs": [],
   "source": [
    "stock_data.describe()"
   ]
  },
  {
   "cell_type": "markdown",
   "metadata": {},
   "source": [
    "# 用今天的股票預測明天的股票"
   ]
  },
  {
   "cell_type": "code",
   "execution_count": null,
   "metadata": {},
   "outputs": [],
   "source": []
  }
 ],
 "metadata": {
  "kernelspec": {
   "display_name": "Python 3",
   "language": "python",
   "name": "python3"
  },
  "language_info": {
   "codemirror_mode": {
    "name": "ipython",
    "version": 3
   },
   "file_extension": ".py",
   "mimetype": "text/x-python",
   "name": "python",
   "nbconvert_exporter": "python",
   "pygments_lexer": "ipython3",
   "version": "3.6.7"
  }
 },
 "nbformat": 4,
 "nbformat_minor": 2
}
