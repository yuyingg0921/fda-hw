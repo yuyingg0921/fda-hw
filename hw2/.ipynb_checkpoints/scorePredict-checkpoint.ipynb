{
 "cells": [
  {
   "cell_type": "markdown",
   "metadata": {},
   "source": [
    "# 利用decision tree 預測學生會不會及格\n",
    "資料的attribute有:\n",
    "- 總共上課次數 (course_time)\n",
    "- 每週讀書時間 (study_hour)\n",
    "- 是否有做作業 (do_homework)\n",
    "- 是否有補習 (tutoring)\n",
    "- 小考成績 (test_score)\n",
    "- 是否通過考試 (pass)\n",
    "\n",
    "\n",
    "\n",
    "當資料較複雜時，model出來的decision tree和原本的rule長的非常不一樣，雖然用訓練資料可以model 出100％準確率的tree，但放入其他比資料驗證會有錯誤資料，解釋decision tree錯誤解讀部份的attribute"
   ]
  },
  {
   "cell_type": "code",
   "execution_count": 1,
   "metadata": {},
   "outputs": [],
   "source": [
    "# include package\n",
    "import pandas as pd\n",
    "from sklearn.tree import DecisionTreeClassifier\n",
    "from sklearn.externals.six import StringIO\n",
    "from sklearn.tree import export_graphviz\n",
    "import pydotplus\n",
    "from sklearn.metrics import accuracy_score #計算準確度\n",
    "import random"
   ]
  },
  {
   "attachments": {},
   "cell_type": "markdown",
   "metadata": {},
   "source": [
    "# 設計自己的decision tree rule (simple)\n",
    "\n",
    "較簡單規則的decision tree,並用這棵decision tree以亂數的方式生產 data\n",
    "\n",
    "![decision_tree_rule_simple.png](/assets/decision_tree_rule_simple.png)"
   ]
  },
  {
   "cell_type": "code",
   "execution_count": 2,
   "metadata": {},
   "outputs": [],
   "source": [
    "# make a table with num rows.\n",
    "def make_table_simple(num):\n",
    "    pd_data = pd.DataFrame(columns=['course_time', 'study_hour', 'do_homework', 'tutoring', 'test_score', 'pass'])\n",
    "    for i in range(1000):\n",
    "        pd_data.loc[i, 'course_time'] = random.randint(0, 18)\n",
    "        pd_data.loc[i, 'study_hour'] = random.randint(0, 10)\n",
    "        pd_data.loc[i, 'do_homework'] = random.randint(0, 1)\n",
    "        pd_data.loc[i, 'tutoring'] = random.randint(0, 1)\n",
    "        pd_data.loc[i, 'test_score'] = random.randint(0, 100)\n",
    "    \n",
    "        if pd_data.loc[i, 'course_time'] > 9:\n",
    "            if pd_data.loc[i, 'study_hour'] > 5:\n",
    "                pd_data.loc[i, 'pass'] = 1\n",
    "            \n",
    "            else:\n",
    "                if pd_data.loc[i, 'do_homework'] == 1:\n",
    "                    pd_data.loc[i, 'pass'] = 1\n",
    "                \n",
    "                else:\n",
    "                    pd_data.loc[i, 'pass'] = 0\n",
    "    \n",
    "        else:\n",
    "            if pd_data.loc[i, 'tutoring'] == 1:\n",
    "                if pd_data.loc[i, 'test_score'] > 60:\n",
    "                    pd_data.loc[i, 'pass'] = 1\n",
    "                \n",
    "                else:\n",
    "                    pd_data.loc[i, 'pass'] = 0\n",
    "                \n",
    "            else: \n",
    "                pd_data.loc[i, 'pass'] = 0\n",
    "    \n",
    "    return pd_data"
   ]
  },
  {
   "cell_type": "code",
   "execution_count": 3,
   "metadata": {},
   "outputs": [
    {
     "data": {
      "text/html": [
       "<div>\n",
       "<style scoped>\n",
       "    .dataframe tbody tr th:only-of-type {\n",
       "        vertical-align: middle;\n",
       "    }\n",
       "\n",
       "    .dataframe tbody tr th {\n",
       "        vertical-align: top;\n",
       "    }\n",
       "\n",
       "    .dataframe thead th {\n",
       "        text-align: right;\n",
       "    }\n",
       "</style>\n",
       "<table border=\"1\" class=\"dataframe\">\n",
       "  <thead>\n",
       "    <tr style=\"text-align: right;\">\n",
       "      <th></th>\n",
       "      <th>course_time</th>\n",
       "      <th>study_hour</th>\n",
       "      <th>do_homework</th>\n",
       "      <th>tutoring</th>\n",
       "      <th>test_score</th>\n",
       "      <th>pass</th>\n",
       "    </tr>\n",
       "  </thead>\n",
       "  <tbody>\n",
       "    <tr>\n",
       "      <th>0</th>\n",
       "      <td>17.0</td>\n",
       "      <td>4.0</td>\n",
       "      <td>0.0</td>\n",
       "      <td>0.0</td>\n",
       "      <td>24.0</td>\n",
       "      <td>0.0</td>\n",
       "    </tr>\n",
       "    <tr>\n",
       "      <th>1</th>\n",
       "      <td>18.0</td>\n",
       "      <td>4.0</td>\n",
       "      <td>0.0</td>\n",
       "      <td>1.0</td>\n",
       "      <td>43.0</td>\n",
       "      <td>0.0</td>\n",
       "    </tr>\n",
       "    <tr>\n",
       "      <th>2</th>\n",
       "      <td>4.0</td>\n",
       "      <td>6.0</td>\n",
       "      <td>0.0</td>\n",
       "      <td>0.0</td>\n",
       "      <td>54.0</td>\n",
       "      <td>0.0</td>\n",
       "    </tr>\n",
       "    <tr>\n",
       "      <th>3</th>\n",
       "      <td>6.0</td>\n",
       "      <td>8.0</td>\n",
       "      <td>1.0</td>\n",
       "      <td>1.0</td>\n",
       "      <td>82.0</td>\n",
       "      <td>1.0</td>\n",
       "    </tr>\n",
       "    <tr>\n",
       "      <th>4</th>\n",
       "      <td>3.0</td>\n",
       "      <td>6.0</td>\n",
       "      <td>1.0</td>\n",
       "      <td>0.0</td>\n",
       "      <td>84.0</td>\n",
       "      <td>0.0</td>\n",
       "    </tr>\n",
       "  </tbody>\n",
       "</table>\n",
       "</div>"
      ],
      "text/plain": [
       "   course_time  study_hour  do_homework  tutoring  test_score  pass\n",
       "0         17.0         4.0          0.0       0.0        24.0   0.0\n",
       "1         18.0         4.0          0.0       1.0        43.0   0.0\n",
       "2          4.0         6.0          0.0       0.0        54.0   0.0\n",
       "3          6.0         8.0          1.0       1.0        82.0   1.0\n",
       "4          3.0         6.0          1.0       0.0        84.0   0.0"
      ]
     },
     "execution_count": 3,
     "metadata": {},
     "output_type": "execute_result"
    }
   ],
   "source": [
    "# 產生資料\n",
    "train_data_simple = make_table_simple(9000)\n",
    "test_data_simple = make_table_simple(2000)\n",
    "\n",
    "train_data_simple.head()"
   ]
  },
  {
   "cell_type": "code",
   "execution_count": 4,
   "metadata": {},
   "outputs": [],
   "source": [
    "# 將input和預測的output data分開\n",
    "train_x_simple = train_data_simple.drop(['pass'], axis=1)\n",
    "train_y_simple = train_data_simple['pass'].values\n",
    "test_x_simple = test_data_simple.drop(['pass'], axis=1)\n",
    "test_y_simple = test_data_simple['pass'].values"
   ]
  },
  {
   "cell_type": "code",
   "execution_count": 5,
   "metadata": {},
   "outputs": [
    {
     "data": {
      "text/plain": [
       "True"
      ]
     },
     "execution_count": 5,
     "metadata": {},
     "output_type": "execute_result"
    }
   ],
   "source": [
    "# 利用資料訓練decision tree\n",
    "dtree_simple = DecisionTreeClassifier(max_depth=4)\n",
    "dtree_simple.fit(train_x_simple, train_y_simple)\n",
    "\n",
    "dot_data = StringIO()\n",
    "\n",
    "# 畫出decision tree\n",
    "export_graphviz(dtree_simple,\n",
    "    out_file=dot_data,\n",
    "    filled=True,\n",
    "    feature_names=list(train_x_simple),\n",
    "    class_names=['fail', 'pass'],\n",
    "    special_characters=True)\n",
    "\n",
    "graph = pydotplus.graph_from_dot_data(dot_data.getvalue())\n",
    "graph.write_pdf('decision_tree_simple.pdf')"
   ]
  },
  {
   "attachments": {},
   "cell_type": "markdown",
   "metadata": {},
   "source": [
    "# fit 出來的decision tree\n",
    "\n",
    "在分類規則較簡單的時候，可以看出model出來的decision tree，和原先的規則差不了多少，只是有些決策順序不同。\n",
    "\n",
    "![decision_tree_model_simple.png](/assets/decision_tree_model_simple.png)"
   ]
  },
  {
   "cell_type": "markdown",
   "metadata": {},
   "source": [
    "# 利用其他比資料驗證準確率\n",
    "rule較簡單時，100準確率為％"
   ]
  },
  {
   "cell_type": "code",
   "execution_count": 6,
   "metadata": {},
   "outputs": [
    {
     "data": {
      "text/plain": [
       "1.0"
      ]
     },
     "execution_count": 6,
     "metadata": {},
     "output_type": "execute_result"
    }
   ],
   "source": [
    "# 利用decision tree 預測\n",
    "dt_predict = dtree_simple.predict(test_x_simple)\n",
    "accuracy_score(dt_predict, test_y_simple)"
   ]
  },
  {
   "attachments": {},
   "cell_type": "markdown",
   "metadata": {},
   "source": [
    "# 較複雜的rule，有些attribute無法一刀切割\n",
    "\n",
    "![decision_tree_complicate.png](/assets/decision_tree_complicate.png)"
   ]
  },
  {
   "cell_type": "code",
   "execution_count": 7,
   "metadata": {},
   "outputs": [],
   "source": [
    "# make a table with num rows.\n",
    "def make_table_complicate(num):\n",
    "    pd_data = pd.DataFrame(columns=['course_time', 'study_hour', 'do_homework', 'tutoring', 'test_score', 'pass'])\n",
    "    for i in range(1000):\n",
    "        pd_data.loc[i, 'course_time'] = random.randint(0, 18)\n",
    "        pd_data.loc[i, 'study_hour'] = random.randint(0, 10)\n",
    "        pd_data.loc[i, 'do_homework'] = random.randint(0, 1)\n",
    "        pd_data.loc[i, 'tutoring'] = random.randint(0, 1)\n",
    "        pd_data.loc[i, 'test_score'] = random.randint(0, 100)\n",
    "    \n",
    "        if pd_data.loc[i, 'course_time'] > 9:\n",
    "            if pd_data.loc[i, 'study_hour'] > 5:\n",
    "                if pd_data.loc[i, 'test_score'] > 20:\n",
    "                    if pd_data.loc[i, 'tutoring'] == 1:\n",
    "                        pd_data.loc[i, 'pass'] = 1\n",
    "                    else:\n",
    "                        pd_data.loc[i, 'pass'] = 1\n",
    "                        \n",
    "                else:\n",
    "                    pd_data.loc[i, 'pass'] = 0\n",
    "                    \n",
    "            else:\n",
    "                if pd_data.loc[i, 'do_homework'] == 1:\n",
    "                    if pd_data.loc[i, 'test_score'] < 33:\n",
    "                        pd_data.loc[i, 'pass'] = 0\n",
    "                    else:\n",
    "                        pd_data.loc[i, 'pass'] = 1\n",
    "                \n",
    "                else:\n",
    "                    pd_data.loc[i, 'pass'] = 0\n",
    "    \n",
    "        else:\n",
    "            if pd_data.loc[i, 'tutoring'] == 1:\n",
    "                if pd_data.loc[i, 'test_score'] > 60:\n",
    "                    if pd_data.loc[i, 'do_homework'] == 1:\n",
    "                        pd_data.loc[i, 'pass'] = 1\n",
    "                    else:\n",
    "                        pd_data.loc[i, 'pass'] = 0\n",
    "                \n",
    "                else:\n",
    "                    pd_data.loc[i, 'pass'] = 0\n",
    "                \n",
    "            else: \n",
    "                if pd_data.loc[i, 'test_score'] > 80:\n",
    "                    pd_data.loc[i, 'pass'] = 1\n",
    "                else:\n",
    "                    if pd_data.loc[i, 'study_hour'] > 8:\n",
    "                        pd_data.loc[i, 'pass'] = 1\n",
    "                    else:\n",
    "                        pd_data.loc[i, 'pass'] = 0\n",
    "    return pd_data"
   ]
  },
  {
   "cell_type": "code",
   "execution_count": 8,
   "metadata": {},
   "outputs": [
    {
     "data": {
      "text/html": [
       "<div>\n",
       "<style scoped>\n",
       "    .dataframe tbody tr th:only-of-type {\n",
       "        vertical-align: middle;\n",
       "    }\n",
       "\n",
       "    .dataframe tbody tr th {\n",
       "        vertical-align: top;\n",
       "    }\n",
       "\n",
       "    .dataframe thead th {\n",
       "        text-align: right;\n",
       "    }\n",
       "</style>\n",
       "<table border=\"1\" class=\"dataframe\">\n",
       "  <thead>\n",
       "    <tr style=\"text-align: right;\">\n",
       "      <th></th>\n",
       "      <th>course_time</th>\n",
       "      <th>study_hour</th>\n",
       "      <th>do_homework</th>\n",
       "      <th>tutoring</th>\n",
       "      <th>test_score</th>\n",
       "      <th>pass</th>\n",
       "    </tr>\n",
       "  </thead>\n",
       "  <tbody>\n",
       "    <tr>\n",
       "      <th>0</th>\n",
       "      <td>15.0</td>\n",
       "      <td>7.0</td>\n",
       "      <td>0.0</td>\n",
       "      <td>0.0</td>\n",
       "      <td>67.0</td>\n",
       "      <td>1.0</td>\n",
       "    </tr>\n",
       "    <tr>\n",
       "      <th>1</th>\n",
       "      <td>16.0</td>\n",
       "      <td>10.0</td>\n",
       "      <td>0.0</td>\n",
       "      <td>0.0</td>\n",
       "      <td>30.0</td>\n",
       "      <td>1.0</td>\n",
       "    </tr>\n",
       "    <tr>\n",
       "      <th>2</th>\n",
       "      <td>0.0</td>\n",
       "      <td>8.0</td>\n",
       "      <td>0.0</td>\n",
       "      <td>0.0</td>\n",
       "      <td>60.0</td>\n",
       "      <td>0.0</td>\n",
       "    </tr>\n",
       "    <tr>\n",
       "      <th>3</th>\n",
       "      <td>12.0</td>\n",
       "      <td>9.0</td>\n",
       "      <td>1.0</td>\n",
       "      <td>0.0</td>\n",
       "      <td>79.0</td>\n",
       "      <td>1.0</td>\n",
       "    </tr>\n",
       "    <tr>\n",
       "      <th>4</th>\n",
       "      <td>0.0</td>\n",
       "      <td>3.0</td>\n",
       "      <td>1.0</td>\n",
       "      <td>1.0</td>\n",
       "      <td>9.0</td>\n",
       "      <td>0.0</td>\n",
       "    </tr>\n",
       "  </tbody>\n",
       "</table>\n",
       "</div>"
      ],
      "text/plain": [
       "   course_time  study_hour  do_homework  tutoring  test_score  pass\n",
       "0         15.0         7.0          0.0       0.0        67.0   1.0\n",
       "1         16.0        10.0          0.0       0.0        30.0   1.0\n",
       "2          0.0         8.0          0.0       0.0        60.0   0.0\n",
       "3         12.0         9.0          1.0       0.0        79.0   1.0\n",
       "4          0.0         3.0          1.0       1.0         9.0   0.0"
      ]
     },
     "execution_count": 8,
     "metadata": {},
     "output_type": "execute_result"
    }
   ],
   "source": [
    "# 產生資料\n",
    "train_data_complicate = make_table_complicate(10000)\n",
    "test_data_complicate = make_table_complicate(10000)\n",
    "\n",
    "train_data_complicate.head()"
   ]
  },
  {
   "cell_type": "code",
   "execution_count": 9,
   "metadata": {},
   "outputs": [],
   "source": [
    "# 將input和預測的output data分開\n",
    "train_x_complicate = train_data_complicate.drop(['pass'], axis=1)\n",
    "train_y_complicate = train_data_complicate['pass'].values\n",
    "test_x_complicate = test_data_complicate.drop(['pass'], axis=1)\n",
    "test_y_complicate = test_data_complicate['pass'].values"
   ]
  },
  {
   "attachments": {},
   "cell_type": "markdown",
   "metadata": {},
   "source": [
    "# model 出來的decision tree\n",
    "\n",
    "當資料較複雜時，model出來的decision tree和原本的rule長的非常不一樣，雖然用訓練資料可以model 出100％準確率的tree，但放入其他比資料驗證會有錯誤資料，解釋decision tree錯誤解讀部份的attribute\n",
    "\n",
    "\n",
    "![decision_tree_model_complicate.png](/assets/decision_tree_model_complicate.png)"
   ]
  },
  {
   "cell_type": "code",
   "execution_count": 10,
   "metadata": {},
   "outputs": [
    {
     "data": {
      "text/plain": [
       "True"
      ]
     },
     "execution_count": 10,
     "metadata": {},
     "output_type": "execute_result"
    }
   ],
   "source": [
    "# 利用資料訓練decision tree\n",
    "dtree_complicate = DecisionTreeClassifier(max_depth=7)\n",
    "dtree_complicate.fit(train_x_complicate, train_y_complicate)\n",
    "\n",
    "dot_data = StringIO()\n",
    "\n",
    "# 畫出decision tree\n",
    "export_graphviz(dtree_complicate,\n",
    "    out_file=dot_data,\n",
    "    filled=True,\n",
    "    feature_names=list(train_x_complicate),\n",
    "    class_names=['fail', 'pass'],\n",
    "    special_characters=True)\n",
    "\n",
    "graph = pydotplus.graph_from_dot_data(dot_data.getvalue())\n",
    "graph.write_pdf('decision_tree_complicate.pdf')"
   ]
  },
  {
   "cell_type": "markdown",
   "metadata": {},
   "source": [
    "# 用其他資料驗證decision tree準確率\n",
    "rule較複雜時model出來的tree具有誤差，說明錯誤解讀部份attribute"
   ]
  },
  {
   "cell_type": "code",
   "execution_count": 11,
   "metadata": {},
   "outputs": [
    {
     "data": {
      "text/plain": [
       "0.997"
      ]
     },
     "execution_count": 11,
     "metadata": {},
     "output_type": "execute_result"
    }
   ],
   "source": [
    "# 利用decision tree 預測\n",
    "dt_predict = dtree_complicate.predict(test_x_complicate)\n",
    "accuracy_score(dt_predict, test_y_complicate)"
   ]
  }
 ],
 "metadata": {
  "kernelspec": {
   "display_name": "Python 3",
   "language": "python",
   "name": "python3"
  },
  "language_info": {
   "codemirror_mode": {
    "name": "ipython",
    "version": 3
   },
   "file_extension": ".py",
   "mimetype": "text/x-python",
   "name": "python",
   "nbconvert_exporter": "python",
   "pygments_lexer": "ipython3",
   "version": "3.6.7"
  }
 },
 "nbformat": 4,
 "nbformat_minor": 2
}
