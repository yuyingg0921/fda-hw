{
 "cells": [
  {
   "cell_type": "markdown",
   "metadata": {},
   "source": [
    "# 資料分析與學習基石 hw1\n",
    "- Name: 黃振宏\n",
    "- Department: 機械系\n",
    "- Id: E14046402"
   ]
  },
  {
   "cell_type": "code",
   "execution_count": 1,
   "metadata": {},
   "outputs": [],
   "source": [
    "# import package\n",
    "import pandas as pd\n",
    "import matplotlib.pyplot as plt\n",
    "import numpy as np\n",
    "\n",
    "# load file\n",
    "pd_data = pd.read_csv('./Reviews.csv')\n",
    "\n",
    "# only use the first 10000 rows\n",
    "pd_data = pd_data[:10000]\n",
    "pd_data.head(10)\n",
    "check = (pd_data['ProfileName'] == 'c2')\n",
    "\n",
    "data = pd_data[check]"
   ]
  },
  {
   "cell_type": "markdown",
   "metadata": {},
   "source": [
    "## 刪除不需要的資料"
   ]
  },
  {
   "cell_type": "code",
   "execution_count": 2,
   "metadata": {},
   "outputs": [],
   "source": [
    "# remove unused label\n",
    "pd_profile = pd_data.drop(['Id', 'ProductId', 'HelpfulnessNumerator', 'HelpfulnessDenominator', 'Time', 'Summary', 'Text'], axis=1)\n",
    "\n",
    "\n",
    "profileUserId = pd_profile.UserId.values"
   ]
  },
  {
   "cell_type": "markdown",
   "metadata": {},
   "source": [
    "## 計算出現次數"
   ]
  },
  {
   "cell_type": "code",
   "execution_count": 3,
   "metadata": {},
   "outputs": [],
   "source": [
    "# DataFrame for counting\n",
    "profile_count = pd.DataFrame(columns=['rowNum', 'UserId', 'ProfileName', 'Score Count', 'Score'])\n",
    "\n",
    "pc_size = 0\n",
    "for rowPtr in range(0, profileUserId.size - 1):\n",
    "    # find profile in profile_count and save in pc_find\n",
    "    pc_find = profile_count.loc[profile_count['UserId'] == profileUserId[rowPtr]]\n",
    "    rowSize, columnSize = pc_find.shape\n",
    "    \n",
    "    # if the profile no in the profile_count set, add it\n",
    "    if rowSize == 0:\n",
    "        profile_count.loc[pc_size] = pd_profile.loc[rowPtr]\n",
    "        profile_count.loc[pc_size, 'Score Count'] = 1\n",
    "        profile_count.loc[pc_size, 'rowNum'] = pc_size\n",
    "        pc_size += 1\n",
    "    \n",
    "    # add score and count value\n",
    "    else:\n",
    "        profile_count.loc[pc_find.iloc[0, 0], 'Score Count'] += 1    # add count Num\n",
    "        profile_count.loc[pc_find.iloc[0, 0], 'Score'] += pd_profile.loc[rowPtr, 'Score']    # add score sum"
   ]
  },
  {
   "cell_type": "markdown",
   "metadata": {},
   "source": [
    "## 計算 mean score and sorting"
   ]
  },
  {
   "cell_type": "code",
   "execution_count": 4,
   "metadata": {},
   "outputs": [],
   "source": [
    "# calculate mean score\n",
    "pc_size, width = profile_count.shape\n",
    "for rowPtr in range(0, pc_size - 1):\n",
    "    profile_count.loc[rowPtr, 'Score'] /= profile_count.loc[rowPtr, 'Score Count']"
   ]
  },
  {
   "cell_type": "code",
   "execution_count": 5,
   "metadata": {},
   "outputs": [],
   "source": [
    "# sorting\n",
    "profile_sorting = profile_count.sort_values(by=['Score Count', 'ProfileName'], ascending=[0, 1])\n",
    "\n",
    "# reset index\n",
    "profile_sorting = profile_sorting.reset_index()\n",
    "\n",
    "# delete unused data\n",
    "profile_sorting = profile_sorting.drop(['rowNum', 'index'], axis=1)"
   ]
  },
  {
   "cell_type": "markdown",
   "metadata": {},
   "source": [
    "## Top-10 Reviewer"
   ]
  },
  {
   "cell_type": "code",
   "execution_count": 6,
   "metadata": {},
   "outputs": [
    {
     "data": {
      "text/html": [
       "<div>\n",
       "<style scoped>\n",
       "    .dataframe tbody tr th:only-of-type {\n",
       "        vertical-align: middle;\n",
       "    }\n",
       "\n",
       "    .dataframe tbody tr th {\n",
       "        vertical-align: top;\n",
       "    }\n",
       "\n",
       "    .dataframe thead th {\n",
       "        text-align: right;\n",
       "    }\n",
       "</style>\n",
       "<table border=\"1\" class=\"dataframe\">\n",
       "  <thead>\n",
       "    <tr style=\"text-align: right;\">\n",
       "      <th></th>\n",
       "      <th>UserId</th>\n",
       "      <th>ProfileName</th>\n",
       "      <th>Score Count</th>\n",
       "      <th>Score Mean</th>\n",
       "    </tr>\n",
       "  </thead>\n",
       "  <tbody>\n",
       "    <tr>\n",
       "      <th>0</th>\n",
       "      <td>A1Z54EM24Y40LL</td>\n",
       "      <td>c2</td>\n",
       "      <td>17</td>\n",
       "      <td>3.88235</td>\n",
       "    </tr>\n",
       "    <tr>\n",
       "      <th>1</th>\n",
       "      <td>A2SZLNSI5KOQJT</td>\n",
       "      <td>Carrie, \"Formerly &amp;#34;Sister Carrie&amp;#34;\"</td>\n",
       "      <td>10</td>\n",
       "      <td>3.8</td>\n",
       "    </tr>\n",
       "    <tr>\n",
       "      <th>2</th>\n",
       "      <td>A35R32TA60XD57</td>\n",
       "      <td>M. Torma</td>\n",
       "      <td>9</td>\n",
       "      <td>4.11111</td>\n",
       "    </tr>\n",
       "    <tr>\n",
       "      <th>3</th>\n",
       "      <td>A281NPSIMI1C2R</td>\n",
       "      <td>Rebecca of Amazon \"The Rebecca Review\"</td>\n",
       "      <td>8</td>\n",
       "      <td>5</td>\n",
       "    </tr>\n",
       "    <tr>\n",
       "      <th>4</th>\n",
       "      <td>A3OXHLG6DIBRW8</td>\n",
       "      <td>C. F. Hill \"CFH\"</td>\n",
       "      <td>7</td>\n",
       "      <td>4.42857</td>\n",
       "    </tr>\n",
       "    <tr>\n",
       "      <th>5</th>\n",
       "      <td>A3NHUQ33CFH3VM</td>\n",
       "      <td>Citizen John</td>\n",
       "      <td>7</td>\n",
       "      <td>3.14286</td>\n",
       "    </tr>\n",
       "    <tr>\n",
       "      <th>6</th>\n",
       "      <td>A3PJZ8TU8FDQ1K</td>\n",
       "      <td>Jared Castle</td>\n",
       "      <td>7</td>\n",
       "      <td>4.71429</td>\n",
       "    </tr>\n",
       "    <tr>\n",
       "      <th>7</th>\n",
       "      <td>AP03SDCDB6RBD</td>\n",
       "      <td>E. OConnor \"erdoreen\"</td>\n",
       "      <td>6</td>\n",
       "      <td>4.33333</td>\n",
       "    </tr>\n",
       "    <tr>\n",
       "      <th>8</th>\n",
       "      <td>AY12DBB0U420B</td>\n",
       "      <td>Gary Peterson</td>\n",
       "      <td>6</td>\n",
       "      <td>4.5</td>\n",
       "    </tr>\n",
       "    <tr>\n",
       "      <th>9</th>\n",
       "      <td>AQ6SHOW0VMZGF</td>\n",
       "      <td>K. Padgett \"familyof5\"</td>\n",
       "      <td>6</td>\n",
       "      <td>2.66667</td>\n",
       "    </tr>\n",
       "  </tbody>\n",
       "</table>\n",
       "</div>"
      ],
      "text/plain": [
       "           UserId                                 ProfileName Score Count  \\\n",
       "0  A1Z54EM24Y40LL                                          c2          17   \n",
       "1  A2SZLNSI5KOQJT  Carrie, \"Formerly &#34;Sister Carrie&#34;\"          10   \n",
       "2  A35R32TA60XD57                                    M. Torma           9   \n",
       "3  A281NPSIMI1C2R      Rebecca of Amazon \"The Rebecca Review\"           8   \n",
       "4  A3OXHLG6DIBRW8                            C. F. Hill \"CFH\"           7   \n",
       "5  A3NHUQ33CFH3VM                                Citizen John           7   \n",
       "6  A3PJZ8TU8FDQ1K                                Jared Castle           7   \n",
       "7   AP03SDCDB6RBD                       E. OConnor \"erdoreen\"           6   \n",
       "8   AY12DBB0U420B                               Gary Peterson           6   \n",
       "9   AQ6SHOW0VMZGF                      K. Padgett \"familyof5\"           6   \n",
       "\n",
       "  Score Mean  \n",
       "0    3.88235  \n",
       "1        3.8  \n",
       "2    4.11111  \n",
       "3          5  \n",
       "4    4.42857  \n",
       "5    3.14286  \n",
       "6    4.71429  \n",
       "7    4.33333  \n",
       "8        4.5  \n",
       "9    2.66667  "
      ]
     },
     "execution_count": 6,
     "metadata": {},
     "output_type": "execute_result"
    }
   ],
   "source": [
    "# rename label\n",
    "profile_sorting = profile_sorting.rename(index=str, columns={'Score': 'Score Mean'})\n",
    "\n",
    "profile_sorting.head(10)"
   ]
  },
  {
   "cell_type": "markdown",
   "metadata": {},
   "source": [
    "## Score Distribution"
   ]
  },
  {
   "cell_type": "code",
   "execution_count": 7,
   "metadata": {},
   "outputs": [
    {
     "data": {
      "image/png": "[encoded data removed]",
      "text/plain": [
       "<Figure size 432x288 with 1 Axes>"
      ]
     },
     "metadata": {
      "needs_background": "light"
     },
     "output_type": "display_data"
    }
   ],
   "source": [
    "nameList = profile_sorting['ProfileName']\n",
    "\n",
    "# find most reviews\n",
    "most_reviews = pd_data[pd_data['ProfileName'] == nameList[0]]\n",
    "\n",
    "# score distribution\n",
    "sc_dis = most_reviews['Score'].value_counts()\n",
    "sc_dis = sc_dis.sort_values()\n",
    "\n",
    "# diagram index\n",
    "sc = list(sc_dis.index)\n",
    "num = list(sc_dis)\n",
    "y_pos = np.arange(len(sc))\n",
    "\n",
    "# draw bar diagram\n",
    "plt.bar(y_pos, num, align = 'center', alpha = 0.5, color = ['b', 'orange', 'g', 'r', 'purple'])\n",
    "plt.xticks(y_pos, sc)\n",
    "plt.ylabel('number')\n",
    "plt.xlabel('score')\n",
    "plt.title('Score Distribution')\n",
    "\n",
    "plt.show()"
   ]
  },
  {
   "cell_type": "markdown",
   "metadata": {},
   "source": [
    "## correlation between numbers of reviews and date"
   ]
  },
  {
   "cell_type": "code",
   "execution_count": 8,
   "metadata": {},
   "outputs": [
    {
     "data": {
      "text/plain": [
       "<matplotlib.axes._subplots.AxesSubplot at 0x25864250>"
      ]
     },
     "execution_count": 8,
     "metadata": {},
     "output_type": "execute_result"
    },
    {
     "data": {
      "image/png": "[encoded data removed]",
      "text/plain": [
       "<Figure size 432x288 with 1 Axes>"
      ]
     },
     "metadata": {
      "needs_background": "light"
     },
     "output_type": "display_data"
    }
   ],
   "source": [
    "pd_reviews = pd_data['Time'].value_counts()\n",
    "pd_data['Time'].hist(bins=10)"
   ]
  },
  {
   "cell_type": "markdown",
   "metadata": {},
   "source": [
    "## HeatMap "
   ]
  },
  {
   "cell_type": "code",
   "execution_count": 9,
   "metadata": {},
   "outputs": [
    {
     "data": {
      "image/png": "[encoded data removed]",
      "text/plain": [
       "<Figure size 432x288 with 2 Axes>"
      ]
     },
     "metadata": {
      "needs_background": "light"
     },
     "output_type": "display_data"
    }
   ],
   "source": [
    "import seaborn as sns\n",
    "pd_corr = pd_data.drop(['ProductId', 'Summary', 'Text', 'ProfileName', 'UserId'], axis=1)\n",
    "\n",
    "corr = pd_corr.corr()\n",
    "\n",
    "heatMap = sns.heatmap(corr, annot=True)"
   ]
  },
  {
   "cell_type": "markdown",
   "metadata": {},
   "source": [
    "## Helpful percent"
   ]
  },
  {
   "cell_type": "code",
   "execution_count": 10,
   "metadata": {},
   "outputs": [],
   "source": [
    "row_size, column_size = pd_data.shape\n",
    "\n",
    "for rowNum in range(0, row_size - 1):\n",
    "    if pd_data.loc[rowNum, 'HelpfulnessNumerator'] > pd_data.loc[rowNum, 'HelpfulnessDenominator']:\n",
    "        print(rowNum)\n",
    "        pd_data.loc[rowNum, 'percent'] = -1\n",
    "\n",
    "    else:\n",
    "        if pd_data.loc[rowNum, 'HelpfulnessDenominator'] == 0:\n",
    "            pd_data.loc[rowNum, 'percent'] = -1\n",
    "        elif pd_data.loc[rowNum, 'HelpfulnessNumerator'] == 0:\n",
    "            pd_data.loc[rowNum, 'percent'] = -1\n",
    "        else:\n",
    "            pd_data.loc[rowNum, 'percent'] = pd_data.loc[rowNum, 'HelpfulnessNumerator'] / pd_data.loc[rowNum, 'HelpfulnessDenominator']"
   ]
  },
  {
   "cell_type": "code",
   "execution_count": 11,
   "metadata": {},
   "outputs": [
    {
     "data": {
      "text/plain": [
       "<matplotlib.axes._subplots.AxesSubplot at 0x14d82850>"
      ]
     },
     "execution_count": 11,
     "metadata": {},
     "output_type": "execute_result"
    },
    {
     "data": {
      "image/png": "[encoded data removed]",
      "text/plain": [
       "<Figure size 432x288 with 1 Axes>"
      ]
     },
     "metadata": {
      "needs_background": "light"
     },
     "output_type": "display_data"
    }
   ],
   "source": [
    "pd_data['percent'].hist(bins=10)"
   ]
  }
 ],
 "metadata": {
  "kernelspec": {
   "display_name": "Python 3",
   "language": "python",
   "name": "python3"
  },
  "language_info": {
   "codemirror_mode": {
    "name": "ipython",
    "version": 3
   },
   "file_extension": ".py",
   "mimetype": "text/x-python",
   "name": "python",
   "nbconvert_exporter": "python",
   "pygments_lexer": "ipython3",
   "version": "3.7.2"
  }
 },
 "nbformat": 4,
 "nbformat_minor": 2
}
