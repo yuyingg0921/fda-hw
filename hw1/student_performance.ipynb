{
 "cells": [
  {
   "cell_type": "markdown",
   "metadata": {},
   "source": [
    "# Student Performance in Exams\n",
    "- name: 黃振宏\n",
    "- id: E14046402\n",
    "- department: 機械系\n",
    "- data:\n",
    "    - https://www.kaggle.com/spscientist/students-performance-in-exams#StudentsPerformance.csv\n",
    "\n",
    "此數據希望了解父母教育程度,是否有準備考試等因素對學生成績的影響\n",
    "\n",
    "這個資料中的數據有\n",
    "    1. 性別 (gender)\n",
    "    2. 種族 (race/ethnicity)\n",
    "    3. 父母教育程度 (parental level of education)\n",
    "    4. 午餐類別 (lunch)\n",
    "    5. 是否有參加考試準備課程 (test preparation course)\n",
    "    6. 數學成績 (math score)\n",
    "    7. 聽力成績 (reading score)\n",
    "    8. 手寫成績 (writing score)"
   ]
  },
  {
   "cell_type": "code",
   "execution_count": 1,
   "metadata": {},
   "outputs": [
    {
     "data": {
      "text/html": [
       "<div>\n",
       "<style scoped>\n",
       "    .dataframe tbody tr th:only-of-type {\n",
       "        vertical-align: middle;\n",
       "    }\n",
       "\n",
       "    .dataframe tbody tr th {\n",
       "        vertical-align: top;\n",
       "    }\n",
       "\n",
       "    .dataframe thead th {\n",
       "        text-align: right;\n",
       "    }\n",
       "</style>\n",
       "<table border=\"1\" class=\"dataframe\">\n",
       "  <thead>\n",
       "    <tr style=\"text-align: right;\">\n",
       "      <th></th>\n",
       "      <th>gender</th>\n",
       "      <th>race/ethnicity</th>\n",
       "      <th>parental level of education</th>\n",
       "      <th>lunch</th>\n",
       "      <th>test preparation course</th>\n",
       "      <th>math score</th>\n",
       "      <th>reading score</th>\n",
       "      <th>writing score</th>\n",
       "    </tr>\n",
       "  </thead>\n",
       "  <tbody>\n",
       "    <tr>\n",
       "      <th>0</th>\n",
       "      <td>female</td>\n",
       "      <td>group B</td>\n",
       "      <td>bachelor's degree</td>\n",
       "      <td>standard</td>\n",
       "      <td>none</td>\n",
       "      <td>72</td>\n",
       "      <td>72</td>\n",
       "      <td>74</td>\n",
       "    </tr>\n",
       "    <tr>\n",
       "      <th>1</th>\n",
       "      <td>female</td>\n",
       "      <td>group C</td>\n",
       "      <td>some college</td>\n",
       "      <td>standard</td>\n",
       "      <td>completed</td>\n",
       "      <td>69</td>\n",
       "      <td>90</td>\n",
       "      <td>88</td>\n",
       "    </tr>\n",
       "    <tr>\n",
       "      <th>2</th>\n",
       "      <td>female</td>\n",
       "      <td>group B</td>\n",
       "      <td>master's degree</td>\n",
       "      <td>standard</td>\n",
       "      <td>none</td>\n",
       "      <td>90</td>\n",
       "      <td>95</td>\n",
       "      <td>93</td>\n",
       "    </tr>\n",
       "    <tr>\n",
       "      <th>3</th>\n",
       "      <td>male</td>\n",
       "      <td>group A</td>\n",
       "      <td>associate's degree</td>\n",
       "      <td>free/reduced</td>\n",
       "      <td>none</td>\n",
       "      <td>47</td>\n",
       "      <td>57</td>\n",
       "      <td>44</td>\n",
       "    </tr>\n",
       "    <tr>\n",
       "      <th>4</th>\n",
       "      <td>male</td>\n",
       "      <td>group C</td>\n",
       "      <td>some college</td>\n",
       "      <td>standard</td>\n",
       "      <td>none</td>\n",
       "      <td>76</td>\n",
       "      <td>78</td>\n",
       "      <td>75</td>\n",
       "    </tr>\n",
       "  </tbody>\n",
       "</table>\n",
       "</div>"
      ],
      "text/plain": [
       "   gender race/ethnicity parental level of education         lunch  \\\n",
       "0  female        group B           bachelor's degree      standard   \n",
       "1  female        group C                some college      standard   \n",
       "2  female        group B             master's degree      standard   \n",
       "3    male        group A          associate's degree  free/reduced   \n",
       "4    male        group C                some college      standard   \n",
       "\n",
       "  test preparation course  math score  reading score  writing score  \n",
       "0                    none          72             72             74  \n",
       "1               completed          69             90             88  \n",
       "2                    none          90             95             93  \n",
       "3                    none          47             57             44  \n",
       "4                    none          76             78             75  "
      ]
     },
     "execution_count": 1,
     "metadata": {},
     "output_type": "execute_result"
    }
   ],
   "source": [
    "import pandas as pd\n",
    "import matplotlib.pyplot as plt\n",
    "import numpy as np\n",
    "import seaborn as sns\n",
    "from sklearn.model_selection import train_test_split\n",
    "from sklearn.tree import DecisionTreeClassifier\n",
    "from sklearn.tree import export_graphviz\n",
    "from sklearn.metrics import accuracy_score\n",
    "from sklearn.externals.six import StringIO\n",
    "import pydotplus\n",
    "\n",
    "pd_data = pd.read_csv('./StudentsPerformance.csv')\n",
    "pd_data.head()"
   ]
  },
  {
   "cell_type": "markdown",
   "metadata": {},
   "source": [
    "# 看分數分佈"
   ]
  },
  {
   "cell_type": "code",
   "execution_count": 2,
   "metadata": {},
   "outputs": [
    {
     "data": {
      "text/html": [
       "<div>\n",
       "<style scoped>\n",
       "    .dataframe tbody tr th:only-of-type {\n",
       "        vertical-align: middle;\n",
       "    }\n",
       "\n",
       "    .dataframe tbody tr th {\n",
       "        vertical-align: top;\n",
       "    }\n",
       "\n",
       "    .dataframe thead th {\n",
       "        text-align: right;\n",
       "    }\n",
       "</style>\n",
       "<table border=\"1\" class=\"dataframe\">\n",
       "  <thead>\n",
       "    <tr style=\"text-align: right;\">\n",
       "      <th></th>\n",
       "      <th>math score</th>\n",
       "      <th>reading score</th>\n",
       "      <th>writing score</th>\n",
       "    </tr>\n",
       "  </thead>\n",
       "  <tbody>\n",
       "    <tr>\n",
       "      <th>count</th>\n",
       "      <td>1000.00000</td>\n",
       "      <td>1000.000000</td>\n",
       "      <td>1000.000000</td>\n",
       "    </tr>\n",
       "    <tr>\n",
       "      <th>mean</th>\n",
       "      <td>66.08900</td>\n",
       "      <td>69.169000</td>\n",
       "      <td>68.054000</td>\n",
       "    </tr>\n",
       "    <tr>\n",
       "      <th>std</th>\n",
       "      <td>15.16308</td>\n",
       "      <td>14.600192</td>\n",
       "      <td>15.195657</td>\n",
       "    </tr>\n",
       "    <tr>\n",
       "      <th>min</th>\n",
       "      <td>0.00000</td>\n",
       "      <td>17.000000</td>\n",
       "      <td>10.000000</td>\n",
       "    </tr>\n",
       "    <tr>\n",
       "      <th>25%</th>\n",
       "      <td>57.00000</td>\n",
       "      <td>59.000000</td>\n",
       "      <td>57.750000</td>\n",
       "    </tr>\n",
       "    <tr>\n",
       "      <th>50%</th>\n",
       "      <td>66.00000</td>\n",
       "      <td>70.000000</td>\n",
       "      <td>69.000000</td>\n",
       "    </tr>\n",
       "    <tr>\n",
       "      <th>75%</th>\n",
       "      <td>77.00000</td>\n",
       "      <td>79.000000</td>\n",
       "      <td>79.000000</td>\n",
       "    </tr>\n",
       "    <tr>\n",
       "      <th>max</th>\n",
       "      <td>100.00000</td>\n",
       "      <td>100.000000</td>\n",
       "      <td>100.000000</td>\n",
       "    </tr>\n",
       "  </tbody>\n",
       "</table>\n",
       "</div>"
      ],
      "text/plain": [
       "       math score  reading score  writing score\n",
       "count  1000.00000    1000.000000    1000.000000\n",
       "mean     66.08900      69.169000      68.054000\n",
       "std      15.16308      14.600192      15.195657\n",
       "min       0.00000      17.000000      10.000000\n",
       "25%      57.00000      59.000000      57.750000\n",
       "50%      66.00000      70.000000      69.000000\n",
       "75%      77.00000      79.000000      79.000000\n",
       "max     100.00000     100.000000     100.000000"
      ]
     },
     "execution_count": 2,
     "metadata": {},
     "output_type": "execute_result"
    }
   ],
   "source": [
    "pd_data.describe()"
   ]
  },
  {
   "cell_type": "markdown",
   "metadata": {},
   "source": [
    "# 看每個attribute的資料分佈"
   ]
  },
  {
   "cell_type": "code",
   "execution_count": 3,
   "metadata": {},
   "outputs": [],
   "source": [
    "count_gender = pd_data['gender'].value_counts()\n",
    "count_race = pd_data['race/ethnicity'].value_counts()\n",
    "count_education = pd_data['parental level of education'].value_counts()\n",
    "count_lunch = pd_data['lunch'].value_counts()\n",
    "count_course = pd_data['test preparation course'].value_counts()"
   ]
  },
  {
   "cell_type": "markdown",
   "metadata": {},
   "source": [
    "# 性別分佈"
   ]
  },
  {
   "cell_type": "code",
   "execution_count": 4,
   "metadata": {},
   "outputs": [
    {
     "data": {
      "image/png": "[encoded data removed]",
      "text/plain": [
       "<Figure size 432x288 with 1 Axes>"
      ]
     },
     "metadata": {},
     "output_type": "display_data"
    }
   ],
   "source": [
    "# gender分佈\n",
    "plt.title('distribution of gender')\n",
    "plt.pie(count_gender.to_list(), labels=count_gender.index.values.tolist())\n",
    "plt.show()"
   ]
  },
  {
   "cell_type": "markdown",
   "metadata": {},
   "source": [
    "# 種族分佈"
   ]
  },
  {
   "cell_type": "code",
   "execution_count": 5,
   "metadata": {},
   "outputs": [
    {
     "data": {
      "image/png": "[encoded data removed]",
      "text/plain": [
       "<Figure size 432x288 with 1 Axes>"
      ]
     },
     "metadata": {},
     "output_type": "display_data"
    }
   ],
   "source": [
    "# race分佈\n",
    "plt.title('distribution of race')\n",
    "plt.pie(count_race.to_list(), labels=count_race.index.values.tolist())\n",
    "plt.show()"
   ]
  },
  {
   "cell_type": "markdown",
   "metadata": {},
   "source": [
    "# 教育分佈"
   ]
  },
  {
   "cell_type": "code",
   "execution_count": 6,
   "metadata": {},
   "outputs": [
    {
     "data": {
      "image/png": "[encoded data removed]",
      "text/plain": [
       "<Figure size 432x288 with 1 Axes>"
      ]
     },
     "metadata": {},
     "output_type": "display_data"
    }
   ],
   "source": [
    "# education分佈\n",
    "plt.title('distribution of education')\n",
    "plt.pie(count_education.to_list(), labels=count_education.index.values.tolist())\n",
    "plt.show()"
   ]
  },
  {
   "cell_type": "markdown",
   "metadata": {},
   "source": [
    "# 午餐"
   ]
  },
  {
   "cell_type": "code",
   "execution_count": 7,
   "metadata": {},
   "outputs": [
    {
     "data": {
      "image/png": "[encoded data removed]",
      "text/plain": [
       "<Figure size 432x288 with 1 Axes>"
      ]
     },
     "metadata": {},
     "output_type": "display_data"
    }
   ],
   "source": [
    "# lunch分佈\n",
    "plt.title('distribution of lunch')\n",
    "plt.pie(count_lunch.to_list(), labels=count_lunch.index.values.tolist())\n",
    "plt.show()"
   ]
  },
  {
   "cell_type": "markdown",
   "metadata": {},
   "source": [
    "# 是否有上完課程"
   ]
  },
  {
   "cell_type": "code",
   "execution_count": 8,
   "metadata": {},
   "outputs": [
    {
     "data": {
      "image/png": "[encoded data removed]",
      "text/plain": [
       "<Figure size 432x288 with 1 Axes>"
      ]
     },
     "metadata": {},
     "output_type": "display_data"
    }
   ],
   "source": [
    "# course分佈\n",
    "plt.title('distribution of course')\n",
    "plt.pie(count_course.to_list(), labels=count_course.index.values.tolist())\n",
    "plt.show()"
   ]
  },
  {
   "cell_type": "markdown",
   "metadata": {},
   "source": [
    "# 數學分數分佈"
   ]
  },
  {
   "cell_type": "code",
   "execution_count": 9,
   "metadata": {},
   "outputs": [
    {
     "data": {
      "image/png": "[encoded data removed]",
      "text/plain": [
       "<Figure size 432x288 with 1 Axes>"
      ]
     },
     "metadata": {
      "needs_background": "light"
     },
     "output_type": "display_data"
    }
   ],
   "source": [
    "plt.hist(x=pd_data['math score'], bins=20, rwidth=0.7)\n",
    "plt.title('math score')\n",
    "plt.xlabel('score')\n",
    "plt.ylabel('number')\n",
    "plt.show()"
   ]
  },
  {
   "cell_type": "markdown",
   "metadata": {},
   "source": [
    "# 閱讀分數分佈"
   ]
  },
  {
   "cell_type": "code",
   "execution_count": 10,
   "metadata": {},
   "outputs": [
    {
     "data": {
      "image/png": "[encoded data removed]",
      "text/plain": [
       "<Figure size 432x288 with 1 Axes>"
      ]
     },
     "metadata": {
      "needs_background": "light"
     },
     "output_type": "display_data"
    }
   ],
   "source": [
    "plt.hist(x=pd_data['reading score'], bins=20, rwidth=0.7)\n",
    "plt.title('reading score')\n",
    "plt.xlabel('score')\n",
    "plt.ylabel('number')\n",
    "plt.show()"
   ]
  },
  {
   "cell_type": "markdown",
   "metadata": {},
   "source": [
    "# 手寫分數分佈"
   ]
  },
  {
   "cell_type": "code",
   "execution_count": 11,
   "metadata": {},
   "outputs": [
    {
     "data": {
      "image/png": "[encoded data removed]",
      "text/plain": [
       "<Figure size 432x288 with 1 Axes>"
      ]
     },
     "metadata": {
      "needs_background": "light"
     },
     "output_type": "display_data"
    }
   ],
   "source": [
    "plt.hist(x=pd_data['writing score'], bins=20, rwidth=0.7)\n",
    "plt.title('writing score')\n",
    "plt.xlabel('score')\n",
    "plt.ylabel('number')\n",
    "plt.show()"
   ]
  },
  {
   "cell_type": "markdown",
   "metadata": {},
   "source": [
    "# 將資料數值化\n",
    "- genger\n",
    "    - female: 0\n",
    "    - male: 1\n",
    "    \n",
    "- race/ethnicity\n",
    "    - group A: 0\n",
    "    - group B: 1\n",
    "    - group C: 2\n",
    "    - group D: 3\n",
    "    - group E: 4\n",
    "    \n",
    "- parental level of education\n",
    "    - some high school: 0 (讀high school，但沒有畢業)\n",
    "    - high school: 1\n",
    "    - some college: 2 (讀學士，但沒有畢業)\n",
    "    - associate's degree: 3 (副學士)\n",
    "    - bachelor's degree: 4 (學士)\n",
    "    - master's degree: 5\n",
    "    \n",
    "- lunch\n",
    "    - free/reduced: 0\n",
    "    - standard: 1\n",
    "\n",
    "- test preparation course\n",
    "    - none: 0\n",
    "    - completed: 1"
   ]
  },
  {
   "cell_type": "code",
   "execution_count": 12,
   "metadata": {},
   "outputs": [],
   "source": [
    "# gender mapping (female: 0, male: 1)\n",
    "def gender_map(text):\n",
    "    if text == 'female':\n",
    "        return 0\n",
    "    elif text == 'male':\n",
    "        return 1\n",
    "    else:\n",
    "        return -1\n",
    "\n",
    "# race mapping\n",
    "def race_map(text):\n",
    "    if text == 'group A':\n",
    "        return 0\n",
    "    elif text == 'group B':\n",
    "        return 1\n",
    "    elif text == 'group C':\n",
    "        return 2\n",
    "    elif text == 'group D':\n",
    "        return 3\n",
    "    elif text == 'group E':\n",
    "        return 4\n",
    "    else: \n",
    "        return -1 \n",
    "    \n",
    "# education mapping\n",
    "def education_map(text):\n",
    "    if text == \"some high school\":\n",
    "        return 0\n",
    "    elif text == \"high school\":\n",
    "        return 1\n",
    "    elif text == \"some college\":\n",
    "        return 2\n",
    "    elif text == \"associate's degree\":\n",
    "        return 3\n",
    "    elif text == \"bachelor's degree\":\n",
    "        return 4\n",
    "    elif text == \"master's degree\":\n",
    "        return 5\n",
    "    else:\n",
    "        return -1\n",
    "\n",
    "# lunch mapping\n",
    "def lunch_map(text):\n",
    "    if text == \"free/reduced\":\n",
    "        return 0\n",
    "    elif text == \"standard\":\n",
    "        return 1\n",
    "    else:\n",
    "        return -1\n",
    "\n",
    "# course mapping\n",
    "def course_map(text):\n",
    "    if text == 'none':\n",
    "        return 0\n",
    "    elif text == 'completed':\n",
    "        return 1\n",
    "    else:\n",
    "        return -1 \n",
    "    \n",
    "# data numeralization\n",
    "num_data = pd_data.drop(['gender', 'race/ethnicity', 'parental level of education', 'lunch', 'test preparation course'], axis=1)\n",
    "num_data['gender'] = pd_data['gender'].apply(gender_map) \n",
    "num_data['race'] = pd_data['race/ethnicity'].apply(race_map) \n",
    "num_data['education'] = pd_data['parental level of education'].apply(education_map)\n",
    "num_data['lunch'] = pd_data['lunch'].apply(lunch_map)\n",
    "num_data['course'] = pd_data['test preparation course'].apply(course_map)"
   ]
  },
  {
   "cell_type": "markdown",
   "metadata": {},
   "source": [
    "# Heat Map\n",
    "1. 從下面分析可以看出，成績之間的相關程度很大，通常其中一個分數高，其他兩個分數也會較高\n",
    "2. 性別(gender)中女生為0，男生為1，在數學部份為正相關，說明平均來看，男生數學較好，在閱讀和寫作部份，為負相關，平均來看女生閱讀和寫作較好\n",
    "3. 在父母教育程度(education)，午餐是否補助的(lunch)和是否有參加考試課程(course)中皆為正相關，說明這些事情都會影響學生成績 "
   ]
  },
  {
   "cell_type": "code",
   "execution_count": 13,
   "metadata": {},
   "outputs": [
    {
     "data": {
      "image/png": "[encoded data removed]",
      "text/plain": [
       "<Figure size 432x288 with 2 Axes>"
      ]
     },
     "metadata": {
      "needs_background": "light"
     },
     "output_type": "display_data"
    }
   ],
   "source": [
    "heatMap = sns.heatmap(num_data.corr(), annot=True)"
   ]
  },
  {
   "cell_type": "markdown",
   "metadata": {},
   "source": [
    "# 種族對成績的影響\n",
    "因為每個種族人數不一樣，所以除以人數，看每個級距分佈百分比"
   ]
  },
  {
   "cell_type": "code",
   "execution_count": 14,
   "metadata": {},
   "outputs": [],
   "source": [
    "def score_scope_map(score):\n",
    "    return int(score / 10) * 10\n",
    "\n",
    "race_data = num_data.copy()\n",
    "\n",
    "# 將分數分級巨\n",
    "race_data['math gap'] = pd_data['math score'].apply(score_scope_map)\n",
    "race_data['writing gap'] = pd_data['writing score'].apply(score_scope_map)\n",
    "race_data['reading gap'] = pd_data['reading score'].apply(score_scope_map)\n",
    "\n",
    "# 將不同race分開\n",
    "group_a = race_data[race_data['race'] == 0]\n",
    "group_b = race_data[num_data['race'] == 1]\n",
    "group_c = race_data[num_data['race'] == 2]\n",
    "group_d = race_data[num_data['race'] == 3]\n",
    "group_e = race_data[num_data['race'] == 4]\n",
    "\n",
    "group_a = group_a.add(-2)\n",
    "group_b = group_b.add(-1)\n",
    "group_c = group_c.add(0)\n",
    "group_d = group_d.add(1.)\n",
    "group_e = group_e.add(2)\n",
    "\n",
    "# 每個race的人數\n",
    "group_a_num = group_a.describe().iloc[0, 0]\n",
    "group_b_num = group_b.describe().iloc[0, 0]\n",
    "group_c_num = group_c.describe().iloc[0, 0]\n",
    "group_d_num = group_d.describe().iloc[0, 0]\n",
    "group_e_num = group_e.describe().iloc[0, 0]\n",
    "\n",
    "# 數學分數的分佈\n",
    "math_a_dis = group_a['math gap'].value_counts().div(group_a_num)\n",
    "math_b_dis = group_b['math gap'].value_counts().div(group_b_num)\n",
    "math_c_dis = group_c['math gap'].value_counts().div(group_c_num)\n",
    "math_d_dis = group_d['math gap'].value_counts().div(group_d_num)\n",
    "math_e_dis = group_e['math gap'].value_counts().div(group_e_num)\n",
    "\n",
    "# writing \n",
    "writing_a_dis = group_a['writing gap'].value_counts().div(group_a_num)\n",
    "writing_b_dis = group_b['writing gap'].value_counts().div(group_b_num)\n",
    "writing_c_dis = group_c['writing gap'].value_counts().div(group_c_num)\n",
    "writing_d_dis = group_d['writing gap'].value_counts().div(group_d_num)\n",
    "writing_e_dis = group_e['writing gap'].value_counts().div(group_e_num)\n",
    "\n",
    "# reading \n",
    "reading_a_dis = group_a['reading gap'].value_counts().div(group_a_num)\n",
    "reading_b_dis = group_b['reading gap'].value_counts().div(group_b_num)\n",
    "reading_c_dis = group_c['reading gap'].value_counts().div(group_c_num)\n",
    "reading_d_dis = group_d['reading gap'].value_counts().div(group_d_num)\n",
    "reading_e_dis = group_e['reading gap'].value_counts().div(group_e_num).sort_index()"
   ]
  },
  {
   "cell_type": "markdown",
   "metadata": {},
   "source": [
    "# 比較種族a和種族e的數學成績\n",
    "可以從下面分析很明顯觀察到在數學方面group e比group a好"
   ]
  },
  {
   "cell_type": "code",
   "execution_count": 15,
   "metadata": {},
   "outputs": [
    {
     "data": {
      "image/png": "[encoded data removed]",
      "text/plain": [
       "<Figure size 432x288 with 1 Axes>"
      ]
     },
     "metadata": {
      "needs_background": "light"
     },
     "output_type": "display_data"
    }
   ],
   "source": [
    "plt.bar(list(math_a_dis.index), list(math_a_dis), width=3.2, color='r', label='group a')\n",
    "plt.bar(list(math_e_dis.index), list(math_e_dis), width=3.2, color='gray', label='group e')\n",
    "plt.legend()\n",
    "plt.xlabel('score')\n",
    "plt.ylabel('number of people(%)')\n",
    "plt.show()"
   ]
  },
  {
   "cell_type": "markdown",
   "metadata": {},
   "source": [
    "# 不同種族間數學成績比較\n",
    "group e > group d > group c > group b > group a"
   ]
  },
  {
   "cell_type": "code",
   "execution_count": 16,
   "metadata": {},
   "outputs": [
    {
     "data": {
      "image/png": "[encoded data removed]",
      "text/plain": [
       "<Figure size 432x288 with 1 Axes>"
      ]
     },
     "metadata": {
      "needs_background": "light"
     },
     "output_type": "display_data"
    }
   ],
   "source": [
    "plt.bar(list(math_a_dis.index), list(math_a_dis), width=0.8, color='r', label='group a')\n",
    "plt.bar(list(math_b_dis.index), list(math_b_dis), width=0.8, color='b', label='group b')\n",
    "plt.bar(list(math_c_dis.index), list(math_c_dis), width=0.8, color='g', label='group c')\n",
    "plt.bar(list(math_d_dis.index), list(math_d_dis), width=0.8, color='yellow', label='group d')\n",
    "plt.bar(list(math_e_dis.index), list(math_e_dis), width=0.8, color='gray', label='group e')\n",
    "plt.legend()\n",
    "plt.xlabel('score')\n",
    "plt.ylabel('number of people(%)')\n",
    "plt.show()"
   ]
  },
  {
   "cell_type": "markdown",
   "metadata": {},
   "source": [
    "# 不同種族間寫作成績比較\n",
    "group e > group d > group c > group b > group a"
   ]
  },
  {
   "cell_type": "code",
   "execution_count": 17,
   "metadata": {},
   "outputs": [
    {
     "data": {
      "image/png": "[encoded data removed]",
      "text/plain": [
       "<Figure size 432x288 with 1 Axes>"
      ]
     },
     "metadata": {
      "needs_background": "light"
     },
     "output_type": "display_data"
    }
   ],
   "source": [
    "plt.bar(list(writing_a_dis.index), list(writing_a_dis), width=0.8, color='r', label='group a')\n",
    "plt.bar(list(writing_b_dis.index), list(writing_b_dis), width=0.8, color='b', label='group b')\n",
    "plt.bar(list(writing_c_dis.index), list(writing_c_dis), width=0.8, color='g', label='group c')\n",
    "plt.bar(list(writing_d_dis.index), list(writing_d_dis), width=0.8, color='yellow', label='group d')\n",
    "plt.bar(list(writing_e_dis.index), list(writing_e_dis), width=0.8, color='gray', label='group e')\n",
    "plt.legend()\n",
    "plt.xlabel('score')\n",
    "plt.ylabel('number of people(%)')\n",
    "plt.show()"
   ]
  },
  {
   "cell_type": "code",
   "execution_count": 18,
   "metadata": {},
   "outputs": [
    {
     "ename": "SyntaxError",
     "evalue": "invalid syntax (<ipython-input-18-f8b113b28155>, line 2)",
     "output_type": "error",
     "traceback": [
      "\u001b[0;36m  File \u001b[0;32m\"<ipython-input-18-f8b113b28155>\"\u001b[0;36m, line \u001b[0;32m2\u001b[0m\n\u001b[0;31m    group e > group d > group c > group b > group a\u001b[0m\n\u001b[0m          ^\u001b[0m\n\u001b[0;31mSyntaxError\u001b[0m\u001b[0;31m:\u001b[0m invalid syntax\n"
     ]
    }
   ],
   "source": [
    "# 不同種族間閱讀成績比較\n",
    "group e > group d > group c > group b > group a"
   ]
  },
  {
   "cell_type": "code",
   "execution_count": null,
   "metadata": {},
   "outputs": [],
   "source": [
    "plt.bar(list(reading_a_dis.index), list(reading_a_dis), width=0.8, color='r', label='group a')\n",
    "plt.bar(list(reading_b_dis.index), list(reading_b_dis), width=0.8, color='b', label='group b')\n",
    "plt.bar(list(reading_c_dis.index), list(reading_c_dis), width=0.8, color='g', label='group c')\n",
    "plt.bar(list(reading_d_dis.index), list(reading_d_dis), width=0.8, color='yellow', label='group d')\n",
    "plt.bar(list(reading_e_dis.index), list(reading_e_dis), width=0.8, color='gray', label='group e')\n",
    "plt.legend()\n",
    "plt.xlabel('score')\n",
    "plt.ylabel('number of people(%)')\n",
    "plt.show()"
   ]
  },
  {
   "cell_type": "markdown",
   "metadata": {},
   "source": [
    "# 父母教育程度的考試分佈\n",
    "父母教育程度越高點的顏色越深\n",
    "\n",
    "從下面分析可以看出，分數教高的部份顏色偏重，分數較低的部份顏色較輕，代表父母教育程度對學生分數有影響，且通常父母學歷越高，學生分數也會較高"
   ]
  },
  {
   "cell_type": "code",
   "execution_count": null,
   "metadata": {},
   "outputs": [],
   "source": [
    "def color_map(num):\n",
    "    if num == 0:\n",
    "        return 'red'\n",
    "    elif num == 1:\n",
    "        return 'green'\n",
    "    elif num == 2:\n",
    "        return 'b'\n",
    "    else:\n",
    "        return 'y'\n",
    "    \n",
    "color_data = num_data.drop(['gender', 'race', 'education', 'lunch', 'course'], axis=1)\n",
    "color_data['gender'] = num_data['gender'].apply(color_map)\n",
    "\n",
    "color_data.plot.scatter(x='reading score', y='writing score', c=num_data['education']) "
   ]
  },
  {
   "cell_type": "markdown",
   "metadata": {},
   "source": [
    "# 利用decision tree 預測學生會不會及格\n",
    "假設 \n",
    "```\n",
    "    1. >= 60 及格\n",
    "    2. < 60 不及格\n",
    "```"
   ]
  },
  {
   "cell_type": "code",
   "execution_count": null,
   "metadata": {},
   "outputs": [],
   "source": [
    "# 將分數分成及格和不及格\n",
    "def pass_map(score):\n",
    "    if score >= 60:\n",
    "        return 1\n",
    "    else:\n",
    "        return 0\n",
    "\n",
    "num_data['math score'] = num_data['math score'].apply(pass_map)\n",
    "num_data['writing score'] = num_data['writing score'].apply(pass_map)\n",
    "num_data['reading score'] = num_data['reading score'].apply(pass_map)"
   ]
  },
  {
   "cell_type": "code",
   "execution_count": null,
   "metadata": {},
   "outputs": [],
   "source": [
    "# 將資料分成 training data 和 validation data\n",
    "x_data = num_data.drop(['math score', 'writing score', 'reading score'], axis=1)\n",
    "y_data = num_data[['math score', 'writing score', 'reading score']]\n",
    "x_train, x_val, y_train, y_val = train_test_split(x_data, y_data, random_state=0) # 每次分割都一樣"
   ]
  },
  {
   "cell_type": "code",
   "execution_count": null,
   "metadata": {},
   "outputs": [],
   "source": [
    "# decision model\n",
    "dt_math = DecisionTreeClassifier(max_depth=5)\n",
    "dt_writing = DecisionTreeClassifier(max_depth=5)\n",
    "dt_reading = DecisionTreeClassifier(max_depth=4)\n",
    "\n",
    "# fit\n",
    "dt_math.fit(x_data, y_data['math score'])\n",
    "dt_writing.fit(x_data, y_data['writing score'])\n",
    "dt_reading.fit(x_data, y_data['reading score'])"
   ]
  },
  {
   "cell_type": "code",
   "execution_count": null,
   "metadata": {},
   "outputs": [],
   "source": [
    "# predict\n",
    "predict_math = dt_math.predict(x_val)\n",
    "predict_writing = dt_writing.predict(x_val)\n",
    "predict_reading = dt_reading.predict(x_val)"
   ]
  },
  {
   "cell_type": "code",
   "execution_count": null,
   "metadata": {},
   "outputs": [],
   "source": [
    "# accuracy\n",
    "print(\"accuracy of predict math score: \")\n",
    "print(accuracy_score(y_val['math score'], predict_math))\n",
    "print(\"accuracy of predict writing score: \")\n",
    "print(accuracy_score(y_val['writing score'], predict_writing))\n",
    "print(\"accuracy of predict reading score: \")\n",
    "print(accuracy_score(y_val['reading score'], predict_reading))"
   ]
  }
 ],
 "metadata": {
  "kernelspec": {
   "display_name": "Python 3",
   "language": "python",
   "name": "python3"
  },
  "language_info": {
   "codemirror_mode": {
    "name": "ipython",
    "version": 3
   },
   "file_extension": ".py",
   "mimetype": "text/x-python",
   "name": "python",
   "nbconvert_exporter": "python",
   "pygments_lexer": "ipython3",
   "version": "3.6.7"
  }
 },
 "nbformat": 4,
 "nbformat_minor": 2
}
